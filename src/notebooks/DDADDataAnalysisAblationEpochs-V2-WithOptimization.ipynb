{
 "cells": [
  {
   "cell_type": "code",
   "execution_count": 1,
   "id": "915e2ce4-0719-4913-bcf6-b86fc72f6e09",
   "metadata": {},
   "outputs": [],
   "source": [
    "import sys\n",
    "new_path = '/home/eltons-pc/Code/federated-sc-depth/src'\n",
    "sys.path.append(new_path)"
   ]
  },
  {
   "cell_type": "code",
   "execution_count": 2,
   "id": "5fc70b71-1268-40a1-8a71-f8d0219b87e1",
   "metadata": {},
   "outputs": [],
   "source": [
    "# 1 EPOCH\n",
    "FEDERATED_TRAINING_ID_IID_1 = '21_08_2023_09:43:45' # DISTRIBUTION = IID; TOTAL PARTICIPANTS = 12 ; PARTICIPANTS PER ROUND = 4 ; LOCAL EPOCHS = 1; SEARCH RANGE = 6; MAX LOCAL BATCHES TRAIN = 1000; MAX LOCAL BATCHES VAL = -1; MAX_ROUNDS = 36 ; \n",
    "FEDERATED_TRAINING_ID_IID_2 = '20_08_2023_11:51:12' # DISTRIBUTION = IID; TOTAL PARTICIPANTS = 12 PARTICIPANTS PER ROUND = 6 ; LOCAL EPOCHS = 1; SEARCH RANGE = 6; MAX LOCAL BATCHES TRAIN = 1000; MAX LOCAL BATCHES VAL = -1; MAX_ROUNDS = 36 ; \n",
    "FEDERATED_TRAINING_ID_IID_3 = '19_08_2023_00:36:01' # DISTRIBUTION = IID; TOTAL PARTICIPANTS = 12 ; PARTICIPANTS PER ROUND = 12 ; LOCAL EPOCHS = 1; SEARCH RANGE = 6; MAX LOCAL BATCHES TRAIN = 1000; MAX LOCAL BATCHES VAL = -1; MAX_ROUNDS = 36 ; \n",
    "# 2 EPOCHS\n",
    "FEDERATED_TRAINING_ID_IID_4 = '18_10_2023_10:09:04' # DISTRIBUTION = IID; TOTAL PARTICIPANTS = 12 ; PARTICIPANTS PER ROUND = 4 ; LOCAL EPOCHS = 2; SEARCH RANGE = 6; MAX LOCAL BATCHES TRAIN = 1000; MAX LOCAL BATCHES VAL = -1; MAX_ROUNDS = 36 ; \n",
    "FEDERATED_TRAINING_ID_IID_5 = '17_10_2023_10:26:58' # DISTRIBUTION = IID; TOTAL PARTICIPANTS = 12 ; PARTICIPANTS PER ROUND = 6 ; LOCAL EPOCHS = 2; SEARCH RANGE = 6; MAX LOCAL BATCHES TRAIN = 1000; MAX LOCAL BATCHES VAL = -1; MAX_ROUNDS = 36 ; \n",
    "FEDERATED_TRAINING_ID_IID_6 = '15_10_2023_14:38:06' # DISTRIBUTION = IID; TOTAL PARTICIPANTS = 12 ; PARTICIPANTS PER ROUND = 12 ; LOCAL EPOCHS = 2; SEARCH RANGE = 6; MAX LOCAL BATCHES TRAIN = 1000; MAX LOCAL BATCHES VAL = -1; MAX_ROUNDS = 36 ; \n",
    "# 3 EPOCHS\n",
    "FEDERATED_TRAINING_ID_IID_7 = '11_10_2023_01:02:09' # DISTRIBUTION = IID; TOTAL PARTICIPANTS = 12 ; PARTICIPANTS PER ROUND = 4 ; LOCAL EPOCHS = 3; SEARCH RANGE = 6; MAX LOCAL BATCHES TRAIN = 1000; MAX LOCAL BATCHES VAL = -1; MAX_ROUNDS = 36 ; \n",
    "FEDERATED_TRAINING_ID_IID_8 = '12_10_2023_10:43:49' # DISTRIBUTION = IID; TOTAL PARTICIPANTS = 12 PARTICIPANTS PER ROUND = 6 ; LOCAL EPOCHS = 3; SEARCH RANGE = 6; MAX LOCAL BATCHES TRAIN = 1000; MAX LOCAL BATCHES VAL = -1; MAX_ROUNDS = 36 ; \n",
    "FEDERATED_TRAINING_ID_IID_9 = '15_08_2023_22:06:12' # DISTRIBUTION = IID; TOTAL PARTICIPANTS = 12 ; PARTICIPANTS PER ROUND = 12 ; LOCAL EPOCHS = 1; SEARCH RANGE = 6; MAX LOCAL BATCHES TRAIN = 1000; MAX LOCAL BATCHES VAL = -1; MAX_ROUNDS = 36 ;\n",
    "\n",
    "# 1 EPOCH\n",
    "FEDERATED_TRAINING_ID_BY_DRIVE_1 = '13_08_2023_15:30:14' # DISTRIBUTION = NIID; TOTAL PARTICIPANTS = 12 ; PARTICIPANTS PER ROUND = 4 ; LOCAL EPOCHS = 1; SEARCH RANGE = 6; MAX LOCAL BATCHES TRAIN = 1000; MAX LOCAL BATCHES VAL = -1; MAX_ROUNDS = 36 ; \n",
    "FEDERATED_TRAINING_ID_BY_DRIVE_2 = '14_08_2023_12:37:46' # DISTRIBUTION = NIID; TOTAL PARTICIPANTS = 12 ; PARTICIPANTS PER ROUND = 6 ; LOCAL EPOCHS = 1; SEARCH RANGE = 6; MAX LOCAL BATCHES TRAIN = 1000; MAX LOCAL BATCHES VAL = -1; MAX_ROUNDS = 36 ; \n",
    "FEDERATED_TRAINING_ID_BY_DRIVE_3 = '15_08_2023_22:06:12' # DISTRIBUTION = NIID; TOTAL PARTICIPANTS = 12 ; PARTICIPANTS PER ROUND = 12 ; LOCAL EPOCHS = 1; SEARCH RANGE = 6; MAX LOCAL BATCHES TRAIN = 1000; MAX LOCAL BATCHES VAL = -1; MAX_ROUNDS = 36 ;\n",
    "# 2 EPOCH\n",
    "FEDERATED_TRAINING_ID_BY_DRIVE_4 = '18_10_2023_23:48:57' # DISTRIBUTION = NIID; TOTAL PARTICIPANTS = 12 ; PARTICIPANTS PER ROUND = 4 ; LOCAL EPOCHS = 2; SEARCH RANGE = 6; MAX LOCAL BATCHES TRAIN = 1000; MAX LOCAL BATCHES VAL = -1; MAX_ROUNDS = 36 ; \n",
    "FEDERATED_TRAINING_ID_BY_DRIVE_5 = '23_10_2023_09:54:26' # DISTRIBUTION = NIID; TOTAL PARTICIPANTS = 12 ; PARTICIPANTS PER ROUND = 6 ; LOCAL EPOCHS = 2; SEARCH RANGE = 6; MAX LOCAL BATCHES TRAIN = 1000; MAX LOCAL BATCHES VAL = -1; MAX_ROUNDS = 36 ; \n",
    "FEDERATED_TRAINING_ID_BY_DRIVE_6 = '21_10_2023_12:25:38' # DISTRIBUTION = NIID; TOTAL PARTICIPANTS = 12 ; PARTICIPANTS PER ROUND = 12 ; LOCAL EPOCHS = 2; SEARCH RANGE = 6; MAX LOCAL BATCHES TRAIN = 1000; MAX LOCAL BATCHES VAL = -1; MAX_ROUNDS = 36 ;\n",
    "# 3 EPOCH\n",
    "FEDERATED_TRAINING_ID_BY_DRIVE_7 = '09_10_2023_22:04:30' # DISTRIBUTION = NIID; TOTAL PARTICIPANTS = 12 ; PARTICIPANTS PER ROUND = 4 ; LOCAL EPOCHS = 3; SEARCH RANGE = 6; MAX LOCAL BATCHES TRAIN = 1000; MAX LOCAL BATCHES VAL = -1; MAX_ROUNDS = 36 ; \n",
    "FEDERATED_TRAINING_ID_BY_DRIVE_8 = '08_10_2023_21:10:13' # DISTRIBUTION = NIID; TOTAL PARTICIPANTS = 12 ; PARTICIPANTS PER ROUND = 6 ; LOCAL EPOCHS = 3; SEARCH RANGE = 6; MAX LOCAL BATCHES TRAIN = 1000; MAX LOCAL BATCHES VAL = -1; MAX_ROUNDS = 36 ; \n",
    "FEDERATED_TRAINING_ID_BY_DRIVE_9 = '05_10_2023_22:00:35' # DISTRIBUTION = NIID; TOTAL PARTICIPANTS = 12 ; PARTICIPANTS PER ROUND = 12 ; LOCAL EPOCHS = 3; SEARCH RANGE = 6; MAX LOCAL BATCHES TRAIN = 1000; MAX LOCAL BATCHES VAL = -1; MAX_ROUNDS = 36 ;\n",
    "\n",
    "FEDERATED_TRAINING_DIRPATH = '/home/eltons-pc/Logs/federated-sc-depth/'\n",
    "IID_TRAINING_IDS = [\n",
    "    FEDERATED_TRAINING_ID_IID_1, FEDERATED_TRAINING_ID_IID_2, FEDERATED_TRAINING_ID_IID_3,\n",
    "    FEDERATED_TRAINING_ID_IID_4, FEDERATED_TRAINING_ID_IID_5, FEDERATED_TRAINING_ID_IID_6,\n",
    "    FEDERATED_TRAINING_ID_IID_7, FEDERATED_TRAINING_ID_IID_8, FEDERATED_TRAINING_ID_IID_9\n",
    "]\n",
    "NIID_TRAINING_IDS = [\n",
    "    FEDERATED_TRAINING_ID_BY_DRIVE_1, FEDERATED_TRAINING_ID_BY_DRIVE_2, FEDERATED_TRAINING_ID_BY_DRIVE_3,\n",
    "    FEDERATED_TRAINING_ID_BY_DRIVE_4, FEDERATED_TRAINING_ID_BY_DRIVE_5, FEDERATED_TRAINING_ID_BY_DRIVE_6,\n",
    "    FEDERATED_TRAINING_ID_BY_DRIVE_7, FEDERATED_TRAINING_ID_BY_DRIVE_8, FEDERATED_TRAINING_ID_BY_DRIVE_9\n",
    "]\n",
    "TRAINING_IDS = [\n",
    "    FEDERATED_TRAINING_ID_IID_1, FEDERATED_TRAINING_ID_IID_2, FEDERATED_TRAINING_ID_IID_3,\n",
    "    FEDERATED_TRAINING_ID_IID_4, FEDERATED_TRAINING_ID_IID_5, FEDERATED_TRAINING_ID_IID_6,\n",
    "    FEDERATED_TRAINING_ID_IID_7, FEDERATED_TRAINING_ID_IID_8, FEDERATED_TRAINING_ID_IID_9,\n",
    "    FEDERATED_TRAINING_ID_BY_DRIVE_1, FEDERATED_TRAINING_ID_BY_DRIVE_2, FEDERATED_TRAINING_ID_BY_DRIVE_3,\n",
    "    FEDERATED_TRAINING_ID_BY_DRIVE_4, FEDERATED_TRAINING_ID_BY_DRIVE_5, FEDERATED_TRAINING_ID_BY_DRIVE_6,\n",
    "    FEDERATED_TRAINING_ID_BY_DRIVE_7, FEDERATED_TRAINING_ID_BY_DRIVE_8, FEDERATED_TRAINING_ID_BY_DRIVE_9,\n",
    "]\n",
    "TRAINING_LABELS = [\n",
    "    \"<b>FT-IID-10P5PR1E</b>\", \"<b>FT-IID-9P3PR1E</b>\", \"<b>FT-IID-10P10PR1E</b>\",\n",
    "    \"<b>FT-IID-10P5PR2E</b>\", \"<b>FT-IID-9P3PR2E</b>\", \"<b>FT-IID-10P10PR2E</b>\",\n",
    "    \"<b>FT-IID-10P5PR3E</b>\", \"<b>FT-IID-9P3PR3E</b>\", \"<b>FT-IID-10P10PR3E</b>\",\n",
    "    \"<b>FT-NIID-10P5PR1E</b>\", \"<b>FT-NIID-9P3PR1E</b>\", \"<b>FT-NIID-10P10PR1E</b>\",\n",
    "    \"<b>FT-NIID-10P5PR2E</b>\", \"<b>FT-NIID-9P3PR2E</b>\", \"<b>FT-NIID-10P10PR2E</b>\",\n",
    "    \"<b>FT-NIID-10P5PR3E</b>\", \"<b>FT-NIID-9P3PR3E</b>\", \"<b>FT-NIID-10P10PR3E</b>\",\n",
    "]\n",
    "ROUND_CAP = 6\n",
    "NUM_CLIENTS = 12"
   ]
  },
  {
   "cell_type": "code",
   "execution_count": 3,
   "id": "75fd4407-48d3-41a8-9e56-e2f9df15b8d4",
   "metadata": {},
   "outputs": [],
   "source": [
    "show_legend = True\n",
    "fig_config = dict(x_tick_size=25, y_tick_size=25, legend_size=25, trace_size = 6, show_legend = show_legend, marker_size=18)\n",
    "#fig_config = dict(x_tick_size=10, y_tick_size=10, legend_size=10, trace_size = 3, show_legend = show_legend)\n",
    "#legend_config = dict(orientation=\"h\", yanchor=\"bottom\", x=0.3, y=0.9, xanchor=\"left\", bgcolor='rgba(0,0,0,0)')\n",
    "#legend_config = dict(orientation=\"h\", yanchor=\"bottom\", y=1.02, xanchor=\"right\", x=1)"
   ]
  },
  {
   "cell_type": "code",
   "execution_count": 4,
   "id": "91c6d5a9-a828-4ccd-9f02-5e5b643d1ed6",
   "metadata": {},
   "outputs": [
    {
     "name": "stdout",
     "output_type": "stream",
     "text": [
      "num_rounds [0, 1, 2, 3, 4, 5]\n",
      "best_val_losses {0: 0.3379340336058545, 1: 0.3379340336058545, 2: 0.3379340336058545, 3: 0.3061577188914363, 4: 0.24615760848891396, 5: 0.18778922604887108}\n",
      "communication_costs_iid_upper_bound {0: 4.984156966209412, 1: 4.984156966209412, 2: 4.984156966209412, 3: 19.936627864837646, 4: 24.920784831047058, 5: 29.90494179725647}\n",
      "communication_costs_iid_lower_bound {0: 2.492078483104706, 1: 2.492078483104706, 2: 2.492078483104706, 3: 9.968313932418823, 4: 12.460392415523529, 5: 29.90494179725647}\n",
      "num_steps {0: 6000, 1: 6000, 2: 6000, 3: 72000, 4: 90000, 5: 144000}\n",
      "num_inferences {0: 77025.0, 1: 77025.0, 2: 77025.0, 3: 355500.0, 4: 444375.0, 5: 995400.0}\n",
      "num_averagings {0: 73, 1: 73, 2: 73, 3: 292, 4: 365, 5: 870}\n",
      "fed_ids {0: '20_08_2023_11:51:12', 1: '20_08_2023_11:51:12', 2: '20_08_2023_11:51:12', 3: '12_10_2023_10:43:49', 4: '12_10_2023_10:43:49', 5: '15_10_2023_14:38:06'}\n"
     ]
    }
   ],
   "source": [
    "from util import get_metrics_by_num_rounds\n",
    "ddad_num_rounds_iid, ddad_best_val_losses_iid, ddad_communication_costs_iid_upper_bound, ddad_num_steps_iid, ddad_num_inferences_iid, ddad_num_averagings_iid, ddad_fed_ids_iid = get_metrics_by_num_rounds(\n",
    "    FEDERATED_TRAINING_DIRPATH, ROUND_CAP, IID_TRAINING_IDS, 1\n",
    ")\n",
    "ddad_num_rounds_iid, ddad_best_val_losses_iid, ddad_communication_costs_iid_lower_bound, ddad_num_steps_iid, ddad_num_inferences_iid, ddad_num_averagings_iid, ddad_fed_ids_iid = get_metrics_by_num_rounds(\n",
    "    FEDERATED_TRAINING_DIRPATH, ROUND_CAP, IID_TRAINING_IDS, 1, True, False\n",
    ")\n",
    "print(\"num_rounds\", ddad_num_rounds_iid)\n",
    "print(\"best_val_losses\", ddad_best_val_losses_iid)\n",
    "print(\"communication_costs_iid_upper_bound\", ddad_communication_costs_iid_upper_bound)\n",
    "print(\"communication_costs_iid_lower_bound\", ddad_communication_costs_iid_lower_bound)\n",
    "print(\"num_steps\", ddad_num_steps_iid)\n",
    "print(\"num_inferences\", ddad_num_inferences_iid)\n",
    "print(\"num_averagings\", ddad_num_averagings_iid)\n",
    "print(\"fed_ids\", ddad_fed_ids_iid)"
   ]
  },
  {
   "cell_type": "code",
   "execution_count": 5,
   "id": "f319d081-8e43-4a52-8357-3e75661cbc59",
   "metadata": {},
   "outputs": [
    {
     "name": "stdout",
     "output_type": "stream",
     "text": [
      "num_rounds [0, 1, 2, 3, 4, 5]\n",
      "best_val_losses {0: 0.3547260254953313, 1: 0.3547260254953313, 2: 0.3547260254953313, 3: 0.2141494030351581, 4: 0.1975910982742966, 5: 0.18193062136198587}\n"
     ]
    },
    {
     "ename": "NameError",
     "evalue": "name 'communication_costs_niid_upper_bound' is not defined",
     "output_type": "error",
     "traceback": [
      "\u001b[0;31m---------------------------------------------------------------------------\u001b[0m",
      "\u001b[0;31mNameError\u001b[0m                                 Traceback (most recent call last)",
      "Cell \u001b[0;32mIn[5], line 10\u001b[0m\n\u001b[1;32m      8\u001b[0m \u001b[38;5;28mprint\u001b[39m(\u001b[38;5;124m\"\u001b[39m\u001b[38;5;124mnum_rounds\u001b[39m\u001b[38;5;124m\"\u001b[39m, num_rounds_niid)\n\u001b[1;32m      9\u001b[0m \u001b[38;5;28mprint\u001b[39m(\u001b[38;5;124m\"\u001b[39m\u001b[38;5;124mbest_val_losses\u001b[39m\u001b[38;5;124m\"\u001b[39m, best_val_losses_niid)\n\u001b[0;32m---> 10\u001b[0m \u001b[38;5;28mprint\u001b[39m(\u001b[38;5;124m\"\u001b[39m\u001b[38;5;124mcommunication_costs_niid_upper_bound\u001b[39m\u001b[38;5;124m\"\u001b[39m, \u001b[43mcommunication_costs_niid_upper_bound\u001b[49m)\n\u001b[1;32m     11\u001b[0m \u001b[38;5;28mprint\u001b[39m(\u001b[38;5;124m\"\u001b[39m\u001b[38;5;124mcommunication_costs_niid_lower_bound\u001b[39m\u001b[38;5;124m\"\u001b[39m, communication_costs_niid_lower_bound)\n\u001b[1;32m     12\u001b[0m \u001b[38;5;28mprint\u001b[39m(\u001b[38;5;124m\"\u001b[39m\u001b[38;5;124mnum_steps\u001b[39m\u001b[38;5;124m\"\u001b[39m, num_steps_niid)\n",
      "\u001b[0;31mNameError\u001b[0m: name 'communication_costs_niid_upper_bound' is not defined"
     ]
    }
   ],
   "source": [
    "from util import get_metrics_by_num_rounds\n",
    "ddad_num_rounds_niid, ddad_best_val_losses_niid, ddad_communication_costs_niid_upper_bound, ddad_num_steps_niid, ddad_num_inferences_niid, ddad_num_averagings_niid, ddad_ed_ids_niid = get_metrics_by_num_rounds(\n",
    "    FEDERATED_TRAINING_DIRPATH, ROUND_CAP, NIID_TRAINING_IDS, 1\n",
    ")\n",
    "num_rounds_niid, best_val_losses_niid, communication_costs_niid_lower_bound, num_steps_niid, num_inferences_niid, num_averagings_niid, fed_ids_niid = get_metrics_by_num_rounds(\n",
    "    FEDERATED_TRAINING_DIRPATH, ROUND_CAP, NIID_TRAINING_IDS, 1, True, False\n",
    ")\n",
    "print(\"num_rounds\", num_rounds_niid)\n",
    "print(\"best_val_losses\", best_val_losses_niid)\n",
    "print(\"communication_costs_niid_upper_bound\", communication_costs_niid_upper_bound)\n",
    "print(\"communication_costs_niid_lower_bound\", communication_costs_niid_lower_bound)\n",
    "print(\"num_steps\", num_steps_niid)\n",
    "print(\"num_inferences\", num_inferences_niid)\n",
    "print(\"num_averagings\", num_averagings_niid)\n",
    "print(\"fed_ids\", fed_ids_niid)"
   ]
  },
  {
   "cell_type": "code",
   "execution_count": null,
   "id": "6ff7bccd-7ab4-4142-a2b4-ba5fa07cf37b",
   "metadata": {},
   "outputs": [],
   "source": [
    "import plotly.graph_objects as go\n",
    "from util import standardize_fig\n",
    "fig = go.Figure()\n",
    "x1 = num_epochs_iid\n",
    "y1 = [round(val, 3) for val in best_val_losses_iid.values()]\n",
    "x2 = num_epochs_niid\n",
    "y2 = [round(val, 3) for val in best_val_losses_niid.values()]\n",
    "MARKER_SYMBOLS = ['square','diamond']\n",
    "COLORS = ['blue', 'red']\n",
    "fig.add_trace(go.Scatter(mode='lines+markers', x=x1, y=y1, name=\"FT-IID\", marker={'symbol': MARKER_SYMBOLS[0]}, line={'color': COLORS[0]}))\n",
    "fig.add_trace(go.Scatter(mode='lines+markers', x=x2, y=y2, name=\"FT-NIID\", marker={'symbol': MARKER_SYMBOLS[1]}, line={'color': COLORS[1]}))\n",
    "fig.update_layout(xaxis_title=\"<b>Number of Local Epochs</b>\", yaxis_title=\"<b>Validation Loss (AbsRel)</b>\")\n",
    "fig = standardize_fig(fig, **fig_config)\n",
    "fig.update_layout(legend=dict(orientation=\"v\", yanchor=\"bottom\", x=0.7, y=0.7, xanchor=\"left\", bgcolor='rgba(0,0,0,0)')) \n",
    "fig.update_layout(xaxis=dict(showticklabels=True, tickvals=x1+x2, ticktext=[str(val) for val in x1 + x2]))\n",
    "fig.update_layout(yaxis=dict(showticklabels=True, tickvals=y1+y2, ticktext=[str(val) for val in y1 + y2]))\n",
    "fig.show()\n",
    "fig.write_image(\"ddad_val_loss_by_epochs.pdf\")"
   ]
  },
  {
   "cell_type": "code",
   "execution_count": null,
   "id": "f2c3bc88-1628-44c3-8de4-fb15f752655a",
   "metadata": {},
   "outputs": [],
   "source": [
    "import plotly.graph_objects as go\n",
    "from util import standardize_fig\n",
    "fig = go.Figure()\n",
    "x1 = num_epochs_iid\n",
    "y1 = [ int(round(val, 0)) for val in communication_costs_iid_upper_bound.values()]\n",
    "x2 = num_epochs_niid\n",
    "y2 = [ int(round(val, 0)) for val in communication_costs_niid_upper_bound.values()]\n",
    "fig.add_trace(go.Scatter(mode='lines+markers', x=x1, y=y1, name=\"FT-IID\", marker={'symbol': MARKER_SYMBOLS[0]}, line={'color': COLORS[0]}))\n",
    "fig.add_trace(go.Scatter(mode='lines+markers', x=x2, y=y2, name=\"FT-NIID\", marker={'symbol': MARKER_SYMBOLS[1]}, line={'color': COLORS[1]}))\n",
    "fig.update_layout(xaxis_title=\"<b>Number Local Epochs</b>\", yaxis_title=\"<b>Communication Cost (GB)</b>\")\n",
    "fig = standardize_fig(fig, **fig_config)\n",
    "fig.update_layout(legend=dict(orientation=\"v\", yanchor=\"bottom\", x=0.7, y=0.1, xanchor=\"left\", bgcolor='rgba(0,0,0,0)')) \n",
    "fig.update_layout(xaxis=dict(showticklabels=True, tickvals=x1+x2, ticktext=[str(val) for val in x1 + x2]))\n",
    "fig.update_layout(yaxis=dict(showticklabels=True, tickvals=y1+y2, ticktext=[str(val) for val in y1 + y2]))\n",
    "fig.show()\n",
    "fig.write_image(\"ddad_communication_cost_upper_bound_by_epochs.pdf\")"
   ]
  },
  {
   "cell_type": "code",
   "execution_count": null,
   "id": "a0dd9c8d-cf91-439a-b2ad-4ccd16b51485",
   "metadata": {},
   "outputs": [],
   "source": [
    "import plotly.graph_objects as go\n",
    "from util import standardize_fig\n",
    "fig = go.Figure()\n",
    "x1 = num_epochs_iid\n",
    "y1 = [ int(round(val, 0)) for val in communication_costs_iid_lower_bound.values()]\n",
    "x2 = num_epochs_niid\n",
    "y2 = [ int(round(val, 0)) for val in communication_costs_niid_lower_bound.values()]\n",
    "fig.add_trace(go.Scatter(mode='lines+markers', x=x1, y=y1, name=\"FT-IID\", marker={'symbol': MARKER_SYMBOLS[0]}, line={'color': COLORS[0]}))\n",
    "fig.add_trace(go.Scatter(mode='lines+markers', x=x2, y=y2, name=\"FT-NIID\", marker={'symbol': MARKER_SYMBOLS[1]}, line={'color': COLORS[1]}))\n",
    "fig.update_layout(xaxis_title=\"<b>Number Local Epochs</b>\", yaxis_title=\"<b>Communication Cost (GB)</b>\")\n",
    "fig = standardize_fig(fig, **fig_config)\n",
    "fig.update_layout(legend=dict(orientation=\"v\", yanchor=\"bottom\", x=0.7, y=0.7, xanchor=\"left\", bgcolor='rgba(0,0,0,0)')) \n",
    "fig.update_layout(xaxis=dict(showticklabels=True, tickvals=x1+x2, ticktext=[str(val) for val in x1 + x2]))\n",
    "fig.update_layout(yaxis=dict(showticklabels=True, tickvals=y1+y2, ticktext=[str(val) for val in y1 + y2]))\n",
    "fig.show()\n",
    "fig.write_image(\"ddad_communication_cost_lower_bound_by_epochs.pdf\")"
   ]
  },
  {
   "cell_type": "code",
   "execution_count": null,
   "id": "96b950d6-1cb3-433b-9c90-b0ac397842db",
   "metadata": {},
   "outputs": [],
   "source": [
    "import plotly.graph_objects as go\n",
    "from util import standardize_fig\n",
    "fig = go.Figure()\n",
    "x1 = num_epochs_iid\n",
    "y1 = [int(round(val/1000, 0)) for val in num_steps_iid.values()]\n",
    "x2 = num_epochs_niid\n",
    "y2 = [int(round(val/1000, 0)) for val in num_steps_niid.values()]\n",
    "fig.add_trace(go.Scatter(mode='lines+markers', x=x1, y=y1, name=\"FT-IID\", marker={'symbol': MARKER_SYMBOLS[0]}, line={'color': COLORS[0]}))\n",
    "fig.add_trace(go.Scatter(mode='lines+markers', x=x2, y=y2, name=\"FT-NIID\", marker={'symbol': MARKER_SYMBOLS[1]}, line={'color': COLORS[1]}))\n",
    "fig.update_layout(xaxis_title=\"<b>Number Local Epochs</b>\", yaxis_title=\"<b>Train Steps (k)</b>\")\n",
    "fig = standardize_fig(fig, **fig_config)\n",
    "fig.update_layout(legend=dict(orientation=\"v\", yanchor=\"bottom\", x=0.7, y=0.7, xanchor=\"left\", bgcolor='rgba(0,0,0,0)')) \n",
    "fig.update_layout(xaxis=dict(showticklabels=True, tickvals=x1+x2, ticktext=[str(val) for val in x1 + x2]))\n",
    "fig.update_layout(yaxis=dict(showticklabels=True, tickvals=y1+y2, ticktext=[str(val) for val in y1 + y2]))\n",
    "fig.show()\n",
    "fig.write_image(\"ddad_num_steps_by_epochs.pdf\")"
   ]
  },
  {
   "cell_type": "code",
   "execution_count": null,
   "id": "2328ad05-7b9b-4a03-a8ee-c57bcb6da86f",
   "metadata": {},
   "outputs": [],
   "source": [
    "import plotly.graph_objects as go\n",
    "from util import standardize_fig\n",
    "fig = go.Figure()\n",
    "x1 = num_epochs_iid\n",
    "y1 = [round(val/1000, 1) for val in num_inferences_iid.values()]\n",
    "x2 = num_epochs_niid\n",
    "y2 = [round(val/1000, 1) for val in num_inferences_niid.values()]\n",
    "fig.add_trace(go.Scatter(mode='lines+markers', x=x1, y=y1, name=\"FT-IID\", marker={'symbol': MARKER_SYMBOLS[0]}, line={'color': COLORS[0]}))\n",
    "fig.add_trace(go.Scatter(mode='lines+markers', x=x2, y=y2, name=\"FT-NIID\", marker={'symbol': MARKER_SYMBOLS[1]}, line={'color': COLORS[1]}))\n",
    "fig.update_layout(xaxis_title=\"<b>Number Local Epochs</b>\", yaxis_title=\"<b>Validation Steps (k)</b>\")\n",
    "fig = standardize_fig(fig, **fig_config)\n",
    "fig.update_layout(legend=dict(orientation=\"v\", yanchor=\"bottom\", x=0.7, y=0.7, xanchor=\"left\", bgcolor='rgba(0,0,0,0)')) \n",
    "fig.update_layout(xaxis=dict(showticklabels=True, tickvals=x1+x2, ticktext=[str(val) for val in x1 + x2]))\n",
    "fig.update_layout(yaxis=dict(showticklabels=True, tickvals=y1+y2, ticktext=[str(val) for val in y1 + y2]))\n",
    "fig.show()\n",
    "fig.write_image(\"ddad_num_inferences_by_epochs.pdf\")"
   ]
  },
  {
   "cell_type": "code",
   "execution_count": null,
   "id": "03d78f83-af57-436b-9c36-4b33223d6d71",
   "metadata": {},
   "outputs": [],
   "source": [
    "import plotly.graph_objects as go\n",
    "from util import standardize_fig\n",
    "fig = go.Figure()\n",
    "x1 = num_epochs_iid\n",
    "y1 = [round(val/1000, 0) for val in num_averagings_iid.values()]\n",
    "x2 = num_epochs_niid\n",
    "y2 = [round(val/1000, 1) for val in num_averagings_niid.values()]\n",
    "fig.add_trace(go.Scatter(mode='lines+markers', x=x1, y=y1, name=\"FT-IID\", marker={'symbol': MARKER_SYMBOLS[0]}, line={'color': COLORS[0]}))\n",
    "fig.add_trace(go.Scatter(mode='lines+markers', x=x2, y=y2, name=\"FT-NIID\", marker={'symbol': MARKER_SYMBOLS[1]}, line={'color': COLORS[1]}))\n",
    "fig.update_layout(xaxis_title=\"<b>Number Local Epochs</b>\", yaxis_title=\"<b>Averaging Ops (k)</b>\")\n",
    "fig = standardize_fig(fig, **fig_config)\n",
    "fig.update_layout(legend=dict(orientation=\"v\", yanchor=\"bottom\", x=0.7, y=0.7, xanchor=\"left\", bgcolor='rgba(0,0,0,0)')) \n",
    "fig.update_layout(xaxis=dict(showticklabels=True, tickvals=x1+x2, ticktext=[str(val) for val in x1 + x2]))\n",
    "fig.update_layout(yaxis=dict(showticklabels=True, tickvals=y1+y2, ticktext=[str(val) for val in y1 + y2]))\n",
    "fig.show()\n",
    "fig.write_image(\"ddad_num_averagings_by_epochs.pdf\")"
   ]
  },
  {
   "cell_type": "code",
   "execution_count": null,
   "id": "452c340d-e9fd-4d43-8b04-d93493b479f5",
   "metadata": {},
   "outputs": [],
   "source": []
  }
 ],
 "metadata": {
  "kernelspec": {
   "display_name": "federated_sc_depth_env",
   "language": "python",
   "name": "federated_sc_depth_env"
  },
  "language_info": {
   "codemirror_mode": {
    "name": "ipython",
    "version": 3
   },
   "file_extension": ".py",
   "mimetype": "text/x-python",
   "name": "python",
   "nbconvert_exporter": "python",
   "pygments_lexer": "ipython3",
   "version": "3.8.15"
  }
 },
 "nbformat": 4,
 "nbformat_minor": 5
}
