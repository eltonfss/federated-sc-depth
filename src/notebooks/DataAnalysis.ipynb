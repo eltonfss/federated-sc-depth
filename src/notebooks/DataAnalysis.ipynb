{
 "cells": [
  {
   "cell_type": "code",
   "execution_count": 1,
   "id": "7f93d521-e06e-4651-8084-dec5b1d22af3",
   "metadata": {},
   "outputs": [
    {
     "name": "stdout",
     "output_type": "stream",
     "text": [
      "FEDERATED_TRAINING_DIRPATH /home/eltons-pc/Logs/federated-sc-depth/22_04_2023_13:45:01\n"
     ]
    }
   ],
   "source": [
    "import os \n",
    "FEDERATED_TRAINING_DIRPATH = '/home/eltons-pc/Logs/federated-sc-depth/'\n",
    "#FEDERATED_TRAINING_DIRPATH = '/home/eltons-pc/Backup/Logs/federated-sc-depth/'\n",
    "\n",
    "# IID\n",
    "\n",
    "#FEDERATED_TRAINING_ID = '07_04_2023_14:16:12' # GOOD run_3_participants_30_rounds_3_local_epochs_30_random_local_30_batches_sequential_iid (4) \n",
    "#FEDERATED_TRAINING_ID = '07_04_2023_19:07:00' # GOOD run_3_participants_30_rounds_3_local_epochs_30_random_local_30_batches_sequential_iid (clone of 2) \n",
    "#FEDERATED_TRAINING_ID = '07_04_2023_22:00:46' # GOOD run_30_participants_6_per_round_100_rounds_4_local_epochs_200_local_train_and_50_local_val_batches_sequential_iid_8_workers\n",
    "#FEDERATED_TRAINING_ID = '10_04_2023_10:17:02' # GOOD run_34_participants_5_per_round_50_rounds_3_local_epochs_100_local_train_and_100_local_val_batches_sequential_iid_8_workers \n",
    "#FEDERATED_TRAINING_ID = '10_04_2023_12:26:54' # GOOD run_34_participants_5_per_round_50_rounds_3_local_epochs_100_local_train_and_100_local_val_batches_sequential_iid_8_workers (1)\n",
    "#FEDERATED_TRAINING_ID = '10_04_2023_17:27:43' # GOOD run_34_participants_5_per_round_50_rounds_3_local_epochs_100_local_train_and_100_local_val_batches_sequential_iid_8_workers (2)\n",
    "#FEDERATED_TRAINING_ID = '19_04_2023_00:15:03' # BAD run_34_participants_5_per_round_50_rounds_3_local_epochs_1000_local_train_and_all_local_val_batches_sequential_iid_8_workers.log\n",
    "#FEDERATED_TRAINING_ID = '20_04_2023_20:32:44' # BAD run_34_participants_3_per_round_50_rounds_1_local_epochs_500_local_train_and_500_local_val_batches_sequential_iid_8_workers.log\n",
    "#FEDERATED_TRAINING_ID = '20_04_2023_22:01:42' # GOOD run_34_participants_5_per_round_50_rounds_3_local_epochs_100_local_train_and_100_local_val_batches_sequential_iid_8_workers (3)\n",
    "\n",
    "# BY DRIVE\n",
    "\n",
    "#FEDERATED_TRAINING_ID = '10_04_2023_19:49:54' # BAD run_34_participants_5_per_round_50_rounds_3_local_epochs_100_local_train_and_100_local_val_batches_sequential_by_drive_8_workers.log\n",
    "FEDERATED_TRAINING_ID = '10_04_2023_22:29:10' # GOOD run_34_participants_5_per_round_50_rounds_3_local_epochs_1000_local_train_and_all_local_val_batches_sequential_by_drive_8_workers.log\n",
    "#FEDERATED_TRAINING_ID = '15_04_2023_01:07:45' # GOOD run_34_participants_3_per_round_50_rounds_3_local_epochs_1000_local_train_and_all_local_val_batches_sequential_by_drive_8_workers.log\n",
    "#FEDERATED_TRAINING_ID = '16_04_2023_01:28:32' # GOOD run_34_participants_3_per_round_50_rounds_1_local_epochs_500_local_train_and_500_local_val_batches_sequential_by_drive_8_workers.log\n",
    "#FEDERATED_TRAINING_ID = '18_04_2023_14:01:33' # BAD run_34_participants_4_per_round_50_rounds_2_local_epochs_all_local_train_and_all_local_val_batches_sequential_by_drive_8_workers.log\n",
    "#FEDERATED_TRAINING_ID = '18_04_2023_18:45:28' # BAD run_34_participants_4_per_round_50_rounds_2_local_epochs_250_local_train_and_250_local_val_batches_sequential_by_drive_8_workers.log\n",
    "\n",
    "# SUDO CENTRALIZED\n",
    "\n",
    "#FEDERATED_TRAINING_ID = '16_04_2023_22:37:37' # BAD run_1_participants_1_per_round_10000_rounds_10_local_epochs_all_local_train_and_all_local_val_batches_sequential_8_workers.log\n",
    "#FEDERATED_TRAINING_ID = '18_04_2023_00:36:48' # GOOD run_1_participants_1_per_round_10_rounds_10_local_epochs_1000_local_train_and_all_local_val_batches_sequential_8_workers.log\n",
    "#FEDERATED_TRAINING_ID = '18_04_2023_12:10:37' # BAD run_1_participants_1_per_round_1_rounds_100_local_epochs_1000_local_train_and_all_local_val_batches_sequential_8_workers.log\n",
    "#FEDERATED_TRAINING_ID = '19_04_2023_23:57:06' # BAD run_1_participants_1_per_round_50_rounds_3_local_epochs_1000_local_train_and_all_local_val_batches_sequential_8_workers.log\n",
    "#FEDERATED_TRAINING_ID = '20_04_2023_10:32:25' # BAD run_1_participants_1_per_round_100_rounds_1_local_epochs_1000_local_train_and_all_local_val_batches_sequential_8_workers.log\n",
    "#FEDERATED_TRAINING_ID = '20_04_2023_15:20:39' # BAD run_1_participants_1_per_round_10_rounds_10_local_epochs_1000_local_train_and_all_local_val_batches_sequential_8_workers.log (2)\n",
    "#FEDERATED_TRAINING_ID = '22_04_2023_00:25:40' # BAD run_1_participants_1_per_round_20_rounds_10_local_epochs_500_local_train_and_500_local_val_batches_sequential_8_workers.log\n",
    "#FEDERATED_TRAINING_ID = '22_04_2023_13:45:01' # BAD run_1_participants_1_per_round_10_rounds_10_local_epochs_1000_local_train_and_200_local_val_batches_sequential_8_workers.log\n",
    "\n",
    "FEDERATED_TRAINING_DIRPATH = os.path.join(FEDERATED_TRAINING_DIRPATH, FEDERATED_TRAINING_ID)\n",
    "print('FEDERATED_TRAINING_DIRPATH', FEDERATED_TRAINING_DIRPATH)\n",
    "assert os.path.exists(FEDERATED_TRAINING_DIRPATH), 'FEDERATED_TRAINING_DIRPATH does not exist!'"
   ]
  },
  {
   "cell_type": "code",
   "execution_count": 2,
   "id": "288ea2e7-0bd8-4562-9217-ea962b16eac2",
   "metadata": {},
   "outputs": [],
   "source": [
    "import json\n",
    "# Read JSON file\n",
    "federated_training_state = {}\n",
    "with open(os.path.join(FEDERATED_TRAINING_DIRPATH, 'federated_training_state.json'), 'r') as f:\n",
    "    federated_training_state = json.load(f)"
   ]
  },
  {
   "cell_type": "code",
   "execution_count": 3,
   "id": "7eba59fe-0324-46be-9c41-abc8130d4ddb",
   "metadata": {},
   "outputs": [
    {
     "ename": "ZeroDivisionError",
     "evalue": "division by zero",
     "output_type": "error",
     "traceback": [
      "\u001b[0;31m---------------------------------------------------------------------------\u001b[0m",
      "\u001b[0;31mZeroDivisionError\u001b[0m                         Traceback (most recent call last)",
      "Cell \u001b[0;32mIn[3], line 9\u001b[0m\n\u001b[1;32m      7\u001b[0m num_rounds \u001b[38;5;241m=\u001b[39m config_args[\u001b[38;5;124m'\u001b[39m\u001b[38;5;124mfed_train_num_rounds\u001b[39m\u001b[38;5;124m'\u001b[39m]\n\u001b[1;32m      8\u001b[0m num_participants_per_round \u001b[38;5;241m=\u001b[39m num_participants \u001b[38;5;241m*\u001b[39m frac_participants_per_round\n\u001b[0;32m----> 9\u001b[0m model_size_mb \u001b[38;5;241m=\u001b[39m \u001b[38;5;28;43msum\u001b[39;49m\u001b[43m(\u001b[49m\u001b[43mfederated_training_state\u001b[49m\u001b[43m[\u001b[49m\u001b[38;5;124;43m\"\u001b[39;49m\u001b[38;5;124;43mglobal_model_bytes_by_round\u001b[39;49m\u001b[38;5;124;43m\"\u001b[39;49m\u001b[43m]\u001b[49m\u001b[38;5;241;43m.\u001b[39;49m\u001b[43mvalues\u001b[49m\u001b[43m(\u001b[49m\u001b[43m)\u001b[49m\u001b[43m)\u001b[49m\u001b[43m \u001b[49m\u001b[38;5;241;43m/\u001b[39;49m\u001b[43m \u001b[49m\u001b[38;5;28;43mlen\u001b[39;49m\u001b[43m(\u001b[49m\u001b[43mfederated_training_state\u001b[49m\u001b[43m[\u001b[49m\u001b[38;5;124;43m\"\u001b[39;49m\u001b[38;5;124;43mglobal_model_bytes_by_round\u001b[39;49m\u001b[38;5;124;43m\"\u001b[39;49m\u001b[43m]\u001b[49m\u001b[38;5;241;43m.\u001b[39;49m\u001b[43mvalues\u001b[49m\u001b[43m(\u001b[49m\u001b[43m)\u001b[49m\u001b[43m)\u001b[49m \u001b[38;5;241m/\u001b[39m \u001b[38;5;241m1024\u001b[39m \u001b[38;5;241m/\u001b[39m \u001b[38;5;241m1014\u001b[39m\n\u001b[1;32m     10\u001b[0m bytes_per_participant \u001b[38;5;241m=\u001b[39m model_size_mb \u001b[38;5;241m*\u001b[39m \u001b[38;5;241m2\u001b[39m  \u001b[38;5;66;03m# Each participant uploads the entire model to the server, and downloads the updated model\u001b[39;00m\n\u001b[1;32m     12\u001b[0m \u001b[38;5;66;03m# Extract global metrics federated_training_state\u001b[39;00m\n",
      "\u001b[0;31mZeroDivisionError\u001b[0m: division by zero"
     ]
    }
   ],
   "source": [
    "import plotly.graph_objects as go\n",
    "\n",
    "# Define variables\n",
    "config_args = federated_training_state['config_args']\n",
    "num_participants = config_args['fed_train_num_participants']\n",
    "frac_participants_per_round = config_args['fed_train_frac_participants_per_round']\n",
    "num_rounds = config_args['fed_train_num_rounds']\n",
    "num_participants_per_round = num_participants * frac_participants_per_round\n",
    "model_size_mb = sum(federated_training_state[\"global_model_bytes_by_round\"].values()) / len(federated_training_state[\"global_model_bytes_by_round\"].values()) / 1024 / 1014\n",
    "bytes_per_participant = model_size_mb * 2  # Each participant uploads the entire model to the server, and downloads the updated model\n",
    "\n",
    "# Extract global metrics federated_training_state\n",
    "global_test_loss = list(federated_training_state[\"global_test_loss_by_round\"].values())\n",
    "\n",
    "# Calculate communication cost\n",
    "total_communication_cost = [num_participants_per_round * bytes_per_participant * round_num for round_num in range(len(global_test_loss))]\n",
    "\n",
    "# Create global test loss figure\n",
    "test_loss_fig = go.Figure()\n",
    "test_loss_fig.add_trace(go.Scatter(x=list(range(len(global_test_loss))), y=global_test_loss, name=\"Test Loss\"))\n",
    "test_loss_fig.update_layout(title=\"Global Validation Loss per Round\", xaxis_title=\"Round\", yaxis_title=\"Global Validation Loss\")\n",
    "\n",
    "# Create estimated communication cost figure\n",
    "communication_cost_fig = go.Figure()\n",
    "communication_cost_fig.add_trace(go.Scatter(x=list(range(num_rounds)), y=total_communication_cost, name=\"Communication Cost\"))\n",
    "communication_cost_fig.update_layout(title=\"Communication Cost per Round\", xaxis_title=\"Round\", yaxis_title=\"Communication Cost (in Megabytes)\")\n",
    "\n",
    "# Display figures\n",
    "test_loss_fig.show()\n",
    "communication_cost_fig.show()\n"
   ]
  },
  {
   "cell_type": "code",
   "execution_count": null,
   "id": "d7b1eea7-b69c-4d44-b1ad-4b8657f056d2",
   "metadata": {},
   "outputs": [],
   "source": []
  },
  {
   "cell_type": "code",
   "execution_count": null,
   "id": "a60e8d5d-dd68-4975-a5bc-0a92de6fa3d7",
   "metadata": {},
   "outputs": [],
   "source": []
  }
 ],
 "metadata": {
  "kernelspec": {
   "display_name": "federated_sc_depth_env",
   "language": "python",
   "name": "federated_sc_depth_env"
  },
  "language_info": {
   "codemirror_mode": {
    "name": "ipython",
    "version": 3
   },
   "file_extension": ".py",
   "mimetype": "text/x-python",
   "name": "python",
   "nbconvert_exporter": "python",
   "pygments_lexer": "ipython3",
   "version": "3.8.15"
  }
 },
 "nbformat": 4,
 "nbformat_minor": 5
}
