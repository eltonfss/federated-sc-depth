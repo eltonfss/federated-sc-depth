{
 "cells": [
  {
   "cell_type": "code",
   "execution_count": null,
   "id": "047fc6b4-9e8f-4d3b-88b0-3a45d341fefe",
   "metadata": {},
   "outputs": [],
   "source": [
    "import plotly.graph_objects as go\n",
    "import numpy as np\n",
    "import math\n",
    "import sys\n",
    "new_path = '~/Code/federated-sc-depth/src'\n",
    "sys.path.append(new_path)\n",
    "from sc_depth_data_module import SCDepthDataModule\n",
    "from util import get_samples_by_participant_chart\n",
    "from types import SimpleNamespace"
   ]
  },
  {
   "cell_type": "code",
   "execution_count": null,
   "id": "178ed792-8eb0-46b8-bcf5-f141c55f100f",
   "metadata": {
    "jupyter": {
     "source_hidden": true
    },
    "tags": []
   },
   "outputs": [],
   "source": [
    "sc_depth_hparams = SimpleNamespace(**{\n",
    "        \"config\": \"~/Configurations/v3/kitti_raw.txt\",\n",
    "        \"exp_name\": \"kitti_scv3\",\n",
    "        \"dataset_dir\": \"~/Datasets/kitti\",\n",
    "        \"dataset_name\": \"kitti\",\n",
    "        \"sequence_length\": 3,\n",
    "        \"skip_frames\": 1,\n",
    "        \"use_frame_index\": False,\n",
    "        \"model_version\": \"v3\",\n",
    "        \"resnet_layers\": 18,\n",
    "        \"ckpt_path\": None,\n",
    "        \"photo_weight\": 1.0,\n",
    "        \"geometry_weight\": 0.1,\n",
    "        \"smooth_weight\": 0.1,\n",
    "        \"rot_t_weight\": 1.0,\n",
    "        \"rot_c_weight\": 1.0,\n",
    "        \"val_mode\": \"depth\",\n",
    "        \"mask_rank_weight\": 0.1,\n",
    "        \"normal_matching_weight\": 0.1,\n",
    "        \"normal_rank_weight\": 0.1,\n",
    "        \"no_ssim\": False,\n",
    "        \"no_auto_mask\": False,\n",
    "        \"no_dynamic_mask\": False,\n",
    "        \"no_min_optimize\": False,\n",
    "        \"input_dir\": None,\n",
    "        \"output_dir\": None,\n",
    "        \"save_vis\": False,\n",
    "        \"save_depth\": False,\n",
    "        \"fed_train_num_rounds\": 30,\n",
    "        \"fed_train_num_participants\": 10,\n",
    "        \"fed_train_frac_participants_per_round\": 1,\n",
    "        \"fed_train_num_local_epochs\": 1,\n",
    "        \"fed_train_num_local_train_batches\": 1000,\n",
    "        \"fed_train_num_local_val_batches\": -1,\n",
    "        \"fed_train_num_local_sanity_val_steps\": 0,\n",
    "        \"fed_train_local_batch_size\": 4,\n",
    "        \"fed_train_local_learn_rate\": 0.001,\n",
    "        \"fed_train_iid\": 1,\n",
    "        \"fed_train_by_drive\": 0,\n",
    "        \"fed_train_by_drive_sort\": \"eager\",\n",
    "        \"fed_train_x_noniid\": False,\n",
    "        \"fed_train_average_without_bn\": False,\n",
    "        \"fed_train_participant_order\": \"sequential\",\n",
    "        \"fed_train_state_backup_dir\": \"~/Logs/federated-sc-depth\",\n",
    "        \"fed_train_state_restore_dir\": None,\n",
    "        \"num_workers\": 8,\n",
    "        \"gpu\": \"0\",\n",
    "        \"verbose\": 0,\n",
    "        \"seed\": 1,\n",
    "        \"log_every_n_steps\": 1,\n",
    "        \"model_time\": \"07_05_2023_10:37:28\",\n",
    "        \"start_time\": \"2023-05-07 10:37:28.663530\"\n",
    "    })"
   ]
  },
  {
   "cell_type": "code",
   "execution_count": null,
   "id": "03ee4f19-aa53-4775-8154-b1b1880e5a9d",
   "metadata": {},
   "outputs": [],
   "source": [
    "global_data = SCDepthDataModule(sc_depth_hparams)\n",
    "global_data.setup()"
   ]
  },
  {
   "cell_type": "code",
   "execution_count": null,
   "id": "001f50a0-e7a3-4631-9716-d6f6d34a52c5",
   "metadata": {},
   "outputs": [],
   "source": [
    "fig_config = dict(x_tick_size=14, y_tick_size=30, legend_size=20)\n",
    "chart_fig = get_samples_by_participant_chart(global_data=global_data, is_iid=True, num_participants=34, redistribute_remaining=False, **fig_config)\n",
    "chart_fig = get_samples_by_participant_chart(global_data=global_data, is_iid=False, num_participants=34, redistribute_remaining=False, fig=chart_fig, **fig_config)\n",
    "chart_fig = get_samples_by_participant_chart(global_data=global_data, is_iid=False, num_participants=34, redistribute_remaining=True, fig=chart_fig, **fig_config)\n",
    "chart_fig.update_layout(legend=dict(x=0.3, y=0.9)) \n",
    "chart_fig.show()\n",
    "chart_fig.write_image(\"samples_by_participant_34_participants.pdf\")"
   ]
  },
  {
   "cell_type": "code",
   "execution_count": null,
   "id": "184d4ec3-0aa6-4fb8-b9b9-23eb326a2d73",
   "metadata": {
    "tags": []
   },
   "outputs": [],
   "source": [
    "fig_config = dict(x_tick_size=30, y_tick_size=30, legend_size=25)\n",
    "chart_fig = get_samples_by_participant_chart(global_data=global_data, is_iid=True, num_participants=10, redistribute_remaining=False, **fig_config)\n",
    "chart_fig = get_samples_by_participant_chart(global_data=global_data, is_iid=False, num_participants=10, redistribute_remaining=False, fig=chart_fig, **fig_config)\n",
    "chart_fig = get_samples_by_participant_chart(global_data=global_data, is_iid=False, num_participants=10, redistribute_remaining=True, fig=chart_fig, **fig_config)\n",
    "chart_fig.update_layout(legend=dict(x=0.3,y=0.9)) \n",
    "chart_fig.show()\n",
    "chart_fig.write_image(\"samples_by_participant_10_participants.pdf\")"
   ]
  },
  {
   "cell_type": "code",
   "execution_count": null,
   "id": "30b7d1ae-773e-49eb-9bc9-ea5c8b0bbf60",
   "metadata": {},
   "outputs": [],
   "source": [
    "chart_fig = get_samples_by_participant_chart(global_data=global_data, is_iid=True, num_participants=9, redistribute_remaining=False, **fig_config)\n",
    "chart_fig = get_samples_by_participant_chart(global_data=global_data, is_iid=False, num_participants=9, redistribute_remaining=False, fig=chart_fig, **fig_config)\n",
    "chart_fig = get_samples_by_participant_chart(global_data=global_data, is_iid=False, num_participants=9, redistribute_remaining=True, fig=chart_fig, **fig_config)\n",
    "chart_fig.update_layout(legend=dict(x=0.3, y=0.9)) \n",
    "chart_fig.show()\n",
    "chart_fig.write_image(\"samples_by_participant_9_participants.pdf\")"
   ]
  },
  {
   "cell_type": "code",
   "execution_count": null,
   "id": "00abe355-c5af-480a-a2ee-b25fb08122ed",
   "metadata": {},
   "outputs": [],
   "source": [
    "chart_fig = get_samples_by_participant_chart(global_data=global_data, is_iid=True, num_participants=5, redistribute_remaining=False, **fig_config)\n",
    "chart_fig = get_samples_by_participant_chart(global_data=global_data, is_iid=False, num_participants=5, redistribute_remaining=False, fig=chart_fig, **fig_config)\n",
    "chart_fig = get_samples_by_participant_chart(global_data=global_data, is_iid=False, num_participants=5, redistribute_remaining=True, fig=chart_fig, **fig_config)\n",
    "chart_fig.update_layout(legend=dict(x=0.3, y=0.99)) \n",
    "chart_fig.show()\n",
    "chart_fig.write_image(\"samples_by_participant_5_participants.pdf\")"
   ]
  },
  {
   "cell_type": "code",
   "execution_count": null,
   "id": "a756813b-3d9b-4a98-8496-0e4d76c1eafa",
   "metadata": {},
   "outputs": [],
   "source": [
    "chart_fig = get_samples_by_participant_chart(global_data=global_data, is_iid=True, num_participants=3, redistribute_remaining=False, **fig_config)\n",
    "chart_fig = get_samples_by_participant_chart(global_data=global_data, is_iid=False, num_participants=3, redistribute_remaining=False, fig=chart_fig, **fig_config)\n",
    "chart_fig = get_samples_by_participant_chart(global_data=global_data, is_iid=False, num_participants=3, redistribute_remaining=True, fig=chart_fig, **fig_config)\n",
    "chart_fig.update_layout(legend=dict(x=1.1, y=0.99)) \n",
    "chart_fig.show()\n",
    "chart_fig.write_image(\"samples_by_participant_5_participants.pdf\")"
   ]
  }
 ],
 "metadata": {
  "kernelspec": {
   "display_name": "federated_sc_depth_env",
   "language": "python",
   "name": "federated_sc_depth_env"
  },
  "language_info": {
   "codemirror_mode": {
    "name": "ipython",
    "version": 3
   },
   "file_extension": ".py",
   "mimetype": "text/x-python",
   "name": "python",
   "nbconvert_exporter": "python",
   "pygments_lexer": "ipython3",
   "version": "3.8.15"
  }
 },
 "nbformat": 4,
 "nbformat_minor": 5
}
