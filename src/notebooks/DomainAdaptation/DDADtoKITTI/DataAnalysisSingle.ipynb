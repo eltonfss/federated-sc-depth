{
 "cells": [
  {
   "cell_type": "code",
   "execution_count": 1,
   "id": "c219a2c7-05f2-4f0e-b177-a3503adb2807",
   "metadata": {},
   "outputs": [],
   "source": [
    "import sys\n",
    "new_path = '/home/eltons-pc/Code/federated-sc-depth/src'\n",
    "sys.path.append(new_path)"
   ]
  },
  {
   "cell_type": "code",
   "execution_count": 2,
   "id": "7f93d521-e06e-4651-8084-dec5b1d22af3",
   "metadata": {},
   "outputs": [
    {
     "name": "stdout",
     "output_type": "stream",
     "text": [
      "FEDERATED_TRAINING_DIRPATH /home/eltons-pc/Logs/federated-sc-depth/28_04_2024_23:12:02\n"
     ]
    }
   ],
   "source": [
    "import os \n",
    "FEDERATED_TRAINING_DIRPATH = '/home/eltons-pc/Logs/federated-sc-depth/'\n",
    "#FEDERATED_TRAINING_DIRPATH = '/home/eltons-pc/Backup/Logs/federated-sc-depth/'\n",
    "\n",
    "\n",
    "#FEDERATED_TRAINING_ID = \"15_03_2024_11:22:23\" # GOOD run_ddad_to_kitti_fedscdepth_12_participants_4_per_round_3_local_epoch_iid.log\n",
    "#FEDERATED_TRAINING_ID = \"17_03_2024_11:34:21\" # GOOD run_ddad_to_kitti_bofedscdepth_12_participants_4_per_round_3_local_epoch_iid.log\n",
    "#FEDERATED_TRAINING_ID = \"23_04_2024_14:12:20\" # GOOD run_ddad_to_kitti_bofedscdepth_with_er_constrained_loss_12_participants_4_per_round_3_local_epoch_iid.log\n",
    "FEDERATED_TRAINING_ID = \"28_04_2024_23:12:02\" # GOOD run_ddad_to_kitti_fedscdepth_with_er_global_retrain_12_participants_4_per_round_3_local_epoch_iid.log\n",
    "\n",
    "\n",
    "FEDERATED_TRAINING_DIRPATH = os.path.join(FEDERATED_TRAINING_DIRPATH, FEDERATED_TRAINING_ID)\n",
    "print('FEDERATED_TRAINING_DIRPATH', FEDERATED_TRAINING_DIRPATH)\n",
    "assert os.path.exists(FEDERATED_TRAINING_DIRPATH), 'FEDERATED_TRAINING_DIRPATH does not exist!'"
   ]
  },
  {
   "cell_type": "code",
   "execution_count": 3,
   "id": "288ea2e7-0bd8-4562-9217-ea962b16eac2",
   "metadata": {},
   "outputs": [],
   "source": [
    "import json\n",
    "# Read JSON file\n",
    "federated_training_state = {}\n",
    "with open(os.path.join(FEDERATED_TRAINING_DIRPATH, 'federated_training_state.json'), 'r') as f:\n",
    "    federated_training_state = json.load(f)"
   ]
  },
  {
   "cell_type": "code",
   "execution_count": 4,
   "id": "7eba59fe-0324-46be-9c41-abc8130d4ddb",
   "metadata": {},
   "outputs": [
    {
     "ename": "ZeroDivisionError",
     "evalue": "division by zero",
     "output_type": "error",
     "traceback": [
      "\u001b[0;31m---------------------------------------------------------------------------\u001b[0m",
      "\u001b[0;31mZeroDivisionError\u001b[0m                         Traceback (most recent call last)",
      "Cell \u001b[0;32mIn[4], line 9\u001b[0m\n\u001b[1;32m      7\u001b[0m num_rounds \u001b[38;5;241m=\u001b[39m config_args[\u001b[38;5;124m'\u001b[39m\u001b[38;5;124mfed_train_num_rounds\u001b[39m\u001b[38;5;124m'\u001b[39m]\n\u001b[1;32m      8\u001b[0m num_participants_per_round \u001b[38;5;241m=\u001b[39m num_participants \u001b[38;5;241m*\u001b[39m frac_participants_per_round\n\u001b[0;32m----> 9\u001b[0m model_size_mb \u001b[38;5;241m=\u001b[39m \u001b[38;5;28;43msum\u001b[39;49m\u001b[43m(\u001b[49m\u001b[38;5;28;43mlist\u001b[39;49m\u001b[43m(\u001b[49m\u001b[43mfederated_training_state\u001b[49m\u001b[43m[\u001b[49m\u001b[38;5;124;43m\"\u001b[39;49m\u001b[38;5;124;43mglobal_model_bytes_by_round\u001b[39;49m\u001b[38;5;124;43m\"\u001b[39;49m\u001b[43m]\u001b[49m\u001b[38;5;241;43m.\u001b[39;49m\u001b[43mvalues\u001b[49m\u001b[43m(\u001b[49m\u001b[43m)\u001b[49m\u001b[43m)\u001b[49m\u001b[43m)\u001b[49m\u001b[38;5;241;43m/\u001b[39;49m\u001b[38;5;28;43mlen\u001b[39;49m\u001b[43m(\u001b[49m\u001b[43mfederated_training_state\u001b[49m\u001b[43m[\u001b[49m\u001b[38;5;124;43m\"\u001b[39;49m\u001b[38;5;124;43mglobal_model_bytes_by_round\u001b[39;49m\u001b[38;5;124;43m\"\u001b[39;49m\u001b[43m]\u001b[49m\u001b[43m)\u001b[49m \u001b[38;5;241m/\u001b[39m \u001b[38;5;241m1024\u001b[39m \u001b[38;5;241m/\u001b[39m \u001b[38;5;241m1024\u001b[39m \u001b[38;5;66;03m# measured in code\u001b[39;00m\n\u001b[1;32m     10\u001b[0m \u001b[38;5;66;03m#model_size_mb = 111.417 # logged by pytorch\u001b[39;00m\n\u001b[1;32m     11\u001b[0m model_size_gb \u001b[38;5;241m=\u001b[39m model_size_mb \u001b[38;5;241m/\u001b[39m \u001b[38;5;241m1024\u001b[39m\n",
      "\u001b[0;31mZeroDivisionError\u001b[0m: division by zero"
     ]
    }
   ],
   "source": [
    "import plotly.graph_objects as go\n",
    "\n",
    "# Define variables\n",
    "config_args = federated_training_state['config_args']\n",
    "num_participants = config_args['fed_train_num_participants']\n",
    "frac_participants_per_round = config_args['fed_train_frac_participants_per_round']\n",
    "num_rounds = config_args['fed_train_num_rounds']\n",
    "num_participants_per_round = num_participants * frac_participants_per_round\n",
    "model_size_mb = sum(list(federated_training_state[\"global_model_bytes_by_round\"].values()))/len(federated_training_state[\"global_model_bytes_by_round\"]) / 1024 / 1024 # measured in code\n",
    "#model_size_mb = 111.417 # logged by pytorch\n",
    "model_size_gb = model_size_mb / 1024\n",
    "bytes_per_participant = model_size_gb * 2  # Each participant uploads the entire model to the server, and downloads the updated model\n",
    "\n",
    "# Extract global metrics federated_training_state\n",
    "global_test_loss = list(federated_training_state[\"global_test_loss_by_round\"].values())\n",
    "\n",
    "# Calculate communication cost\n",
    "total_communication_cost = [num_participants_per_round * bytes_per_participant * round_num for round_num in range(len(global_test_loss))]\n",
    "\n",
    "# Create global test loss figure\n",
    "test_loss_fig = go.Figure()\n",
    "test_loss_fig.add_trace(go.Scatter(x=list(range(len(global_test_loss))), y=global_test_loss, name=\"Test Loss\"))\n",
    "test_loss_fig.update_layout(title=\"Global Validation Loss per Round\", xaxis_title=\"Round\", yaxis_title=\"Global Validation Loss\")\n",
    "\n",
    "# Create estimated communication cost figure\n",
    "communication_cost_fig = go.Figure()\n",
    "communication_cost_fig.add_trace(go.Scatter(x=list(range(num_rounds)), y=total_communication_cost, name=\"Communication Cost\"))\n",
    "communication_cost_fig.update_layout(title=\"Communication Cost per Round\", xaxis_title=\"Round\", yaxis_title=\"Communication Cost (in Gigabytes)\")\n",
    "\n",
    "# Display figures\n",
    "test_loss_fig.show()\n",
    "communication_cost_fig.show()\n"
   ]
  },
  {
   "cell_type": "code",
   "execution_count": null,
   "id": "78ae90ce-5b18-464c-a1ec-e5a22c7f5a85",
   "metadata": {},
   "outputs": [],
   "source": []
  }
 ],
 "metadata": {
  "kernelspec": {
   "display_name": "federated_sc_depth_env",
   "language": "python",
   "name": "federated_sc_depth_env"
  },
  "language_info": {
   "codemirror_mode": {
    "name": "ipython",
    "version": 3
   },
   "file_extension": ".py",
   "mimetype": "text/x-python",
   "name": "python",
   "nbconvert_exporter": "python",
   "pygments_lexer": "ipython3",
   "version": "3.8.15"
  }
 },
 "nbformat": 4,
 "nbformat_minor": 5
}
