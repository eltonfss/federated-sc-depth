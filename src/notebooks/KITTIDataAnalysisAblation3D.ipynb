{
 "cells": [
  {
   "cell_type": "code",
   "execution_count": 1,
   "id": "915e2ce4-0719-4913-bcf6-b86fc72f6e09",
   "metadata": {},
   "outputs": [],
   "source": [
    "import sys\n",
    "new_path = '/home/eltons-pc/Code/federated-sc-depth/src'\n",
    "sys.path.append(new_path)"
   ]
  },
  {
   "cell_type": "code",
   "execution_count": 2,
   "id": "5fc70b71-1268-40a1-8a71-f8d0219b87e1",
   "metadata": {},
   "outputs": [],
   "source": [
    "# 1 EPOCH\n",
    "FEDERATED_TRAINING_ID_IID_1 = '09_05_2023_10:30:05' # GOOD run_10_participants_5_per_round_30_rounds_1_local_epochs_1000_local_train_and_all_local_val_batches_sequential_iid_8_workers.log\n",
    "FEDERATED_TRAINING_ID_IID_2 = '10_05_2023_21:58:21' # GOOD run_9_participants_3_per_round_30_rounds_1_local_epochs_1000_local_train_and_all_local_val_batches_sequential_iid_8_workers.log\n",
    "FEDERATED_TRAINING_ID_IID_3 = '13_05_2023_22:52:57' # GOOD run_10_participants_10_per_round_30_rounds_1_local_epochs_1000_local_train_and_all_local_val_batches_sequential_iid_8_workers.log\n",
    "# 2 EPOCHS\n",
    "FEDERATED_TRAINING_ID_IID_4 = '31_05_2023_10:42:42' # GOOD run_10_participants_5_per_round_30_rounds_2_local_epochs_1000_local_train_and_all_local_val_batches_sequential_iid_8_workers.log\n",
    "FEDERATED_TRAINING_ID_IID_5 = '06_06_2023_22:52:22' # GOOD run_9_participants_3_per_round_30_rounds_2_local_epochs_1000_local_train_and_all_local_val_batches_sequential_iid_8_workers.log\n",
    "FEDERATED_TRAINING_ID_IID_6 = '03_06_2023_19:36:11' # GOOD run_10_participants_10_per_round_30_rounds_2_local_epochs_1000_local_train_and_all_local_val_batches_sequential_iid_8_workers.log\n",
    "# 3 EPOCHS\n",
    "FEDERATED_TRAINING_ID_IID_7 = '25_05_2023_22:26:42' # GOOD run_10_participants_5_per_round_30_rounds_3_local_epochs_1000_local_train_and_all_local_val_batches_sequential_iid_8_workers.log\n",
    "FEDERATED_TRAINING_ID_IID_8 = '08_06_2023_00:13:57' # BAD run_9_participants_3_per_round_30_rounds_3_local_epochs_1000_local_train_and_all_local_val_batches_sequential_iid_8_workers.log\n",
    "FEDERATED_TRAINING_ID_IID_9 = '18_05_2023_21:28:24' # GOOD run_10_participants_10_per_round_30_rounds_3_local_epochs_1000_local_train_and_all_local_val_batches_sequential_iid_8_workers.log\n",
    "\n",
    "# 1 EPOCH\n",
    "FEDERATED_TRAINING_ID_BY_DRIVE_1 = '08_05_2023_23:18:52' # GOOD run_10_participants_5_per_round_30_rounds_1_local_epochs_1000_local_train_and_all_local_val_batches_random_by_drive_eager_sort_redistribute_remaining_8_workers.log\n",
    "FEDERATED_TRAINING_ID_BY_DRIVE_2 = '09_05_2023_22:03:14' # GOOD run_9_participants_3_per_round_30_rounds_1_local_epochs_1000_local_train_and_all_local_val_batches_random_by_drive_eager_sort_redistribute_remaining_8_workers.log\n",
    "FEDERATED_TRAINING_ID_BY_DRIVE_3 = '12_05_2023_19:50:36' # GOOD run_10_participants_10_per_round_30_rounds_1_local_epochs_1000_local_train_and_all_local_val_batches_random_by_drive_eager_sort_redistribute_remaining_8_workers.log\n",
    "# 2 EPOCH\n",
    "FEDERATED_TRAINING_ID_BY_DRIVE_4 = '30_05_2023_11:44:13' # GOOD run_10_participants_5_per_round_30_rounds_2_local_epochs_1000_local_train_and_all_local_val_batches_random_by_drive_eager_sort_redistribute_remaining_8_workers.log\n",
    "FEDERATED_TRAINING_ID_BY_DRIVE_5 = '09_06_2023_16:28:48' # BAD run_9_participants_3_per_round_30_rounds_2_local_epochs_1000_local_train_and_all_local_val_batches_random_by_drive_eager_sort_redistribute_remaining_8_workers.log\n",
    "FEDERATED_TRAINING_ID_BY_DRIVE_6 = '01_06_2023_10:49:25' # GOOD run_10_participants_10_per_round_30_rounds_2_local_epochs_1000_local_train_and_all_local_val_batches_random_by_drive_eager_sort_redistribute_remaining_8_workers.log\n",
    "# 3 EPOCH\n",
    "FEDERATED_TRAINING_ID_BY_DRIVE_7 = '22_05_2023_19:44:26' # GOOD run_10_participants_5_per_round_30_rounds_3_local_epochs_1000_local_train_and_all_local_val_batches_random_by_drive_eager_sort_redistribute_remaining_8_workers.log\n",
    "FEDERATED_TRAINING_ID_BY_DRIVE_8 = '08_06_2023_19:35:39' # GOOD run_9_participants_3_per_round_30_rounds_3_local_epochs_1000_local_train_and_all_local_val_batches_random_by_drive_eager_sort_redistribute_remaining_8_workers.log\n",
    "FEDERATED_TRAINING_ID_BY_DRIVE_9 = '15_05_2023_11:07:10' # GOOD run_10_participants_10_per_round_30_rounds_3_local_epochs_1000_local_train_and_all_local_val_batches_random_by_drive_eager_sort_redistribute_remaining_8_workers.log\n",
    "\n",
    "FEDERATED_TRAINING_DIRPATH = '/home/eltons-pc/Backup/Logs/federated-sc-depth/'\n",
    "IID_TRAINING_IDS = [\n",
    "    FEDERATED_TRAINING_ID_IID_1, FEDERATED_TRAINING_ID_IID_2, FEDERATED_TRAINING_ID_IID_3,\n",
    "    FEDERATED_TRAINING_ID_IID_4, FEDERATED_TRAINING_ID_IID_5, FEDERATED_TRAINING_ID_IID_6,\n",
    "    FEDERATED_TRAINING_ID_IID_7, FEDERATED_TRAINING_ID_IID_8, FEDERATED_TRAINING_ID_IID_9\n",
    "]\n",
    "NIID_TRAINING_IDS = [\n",
    "    FEDERATED_TRAINING_ID_BY_DRIVE_1, FEDERATED_TRAINING_ID_BY_DRIVE_2, FEDERATED_TRAINING_ID_BY_DRIVE_3,\n",
    "    FEDERATED_TRAINING_ID_BY_DRIVE_4, FEDERATED_TRAINING_ID_BY_DRIVE_5, FEDERATED_TRAINING_ID_BY_DRIVE_6,\n",
    "    FEDERATED_TRAINING_ID_BY_DRIVE_7, FEDERATED_TRAINING_ID_BY_DRIVE_8, FEDERATED_TRAINING_ID_BY_DRIVE_9\n",
    "]\n",
    "TRAINING_IDS = [\n",
    "    FEDERATED_TRAINING_ID_IID_1, FEDERATED_TRAINING_ID_IID_2, FEDERATED_TRAINING_ID_IID_3,\n",
    "    FEDERATED_TRAINING_ID_IID_4, FEDERATED_TRAINING_ID_IID_5, FEDERATED_TRAINING_ID_IID_6,\n",
    "    FEDERATED_TRAINING_ID_IID_7, FEDERATED_TRAINING_ID_IID_8, FEDERATED_TRAINING_ID_IID_9,\n",
    "    FEDERATED_TRAINING_ID_BY_DRIVE_1, FEDERATED_TRAINING_ID_BY_DRIVE_2, FEDERATED_TRAINING_ID_BY_DRIVE_3,\n",
    "    FEDERATED_TRAINING_ID_BY_DRIVE_4, FEDERATED_TRAINING_ID_BY_DRIVE_5, FEDERATED_TRAINING_ID_BY_DRIVE_6,\n",
    "    FEDERATED_TRAINING_ID_BY_DRIVE_7, FEDERATED_TRAINING_ID_BY_DRIVE_8, FEDERATED_TRAINING_ID_BY_DRIVE_9,\n",
    "]\n",
    "TRAINING_LABELS = [\n",
    "    \"<b>FT-IID-10P5PR1E</b>\", \"<b>FT-IID-9P3PR1E</b>\", \"<b>FT-IID-10P10PR1E</b>\",\n",
    "    \"<b>FT-IID-10P5PR2E</b>\", \"<b>FT-IID-9P3PR2E</b>\", \"<b>FT-IID-10P10PR2E</b>\",\n",
    "    \"<b>FT-IID-10P5PR3E</b>\", \"<b>FT-IID-9P3PR3E</b>\", \"<b>FT-IID-10P10PR3E</b>\",\n",
    "    \"<b>FT-NIID-10P5PR1E</b>\", \"<b>FT-NIID-9P3PR1E</b>\", \"<b>FT-NIID-10P10PR1E</b>\",\n",
    "    \"<b>FT-NIID-10P5PR2E</b>\", \"<b>FT-NIID-9P3PR2E</b>\", \"<b>FT-NIID-10P10PR2E</b>\",\n",
    "    \"<b>FT-NIID-10P5PR3E</b>\", \"<b>FT-NIID-9P3PR3E</b>\", \"<b>FT-NIID-10P10PR3E</b>\",\n",
    "]\n",
    "ROUND_CAP = 12\n",
    "NUM_CLIENTS = 10"
   ]
  },
  {
   "cell_type": "code",
   "execution_count": 3,
   "id": "75fd4407-48d3-41a8-9e56-e2f9df15b8d4",
   "metadata": {},
   "outputs": [],
   "source": [
    "show_legend = True\n",
    "#fig_config = dict(x_tick_size=25, y_tick_size=25, legend_size=15, trace_size = 6, show_legend = show_legend)\n",
    "fig_config = dict(x_tick_size=10, y_tick_size=10, legend_size=10, trace_size = 3, show_legend = show_legend)\n",
    "legend_config = dict(orientation=\"v\", yanchor=\"bottom\", y=0, xanchor=\"left\", x=1, bgcolor='rgba(0,0,0,0)')"
   ]
  },
  {
   "cell_type": "code",
   "execution_count": 4,
   "id": "91c6d5a9-a828-4ccd-9f02-5e5b643d1ed6",
   "metadata": {},
   "outputs": [
    {
     "name": "stdout",
     "output_type": "stream",
     "text": [
      "num_participants [3, 5, 10]\n",
      "best_val_losses {3: 0.16689607273701848, 5: 0.1595011941129358, 10: 0.16463497955174672}\n",
      "communication_costs {3: 33.64305952191353, 5: 49.841569662094116, 10: 33.227713108062744}\n",
      "num_steps {3: 54000, 5: 180000, 10: 240000}\n",
      "num_local_epochs {3: 2, 5: 3, 10: 3}\n",
      "fed_ids {3: '06_06_2023_22:52:22', 5: '25_05_2023_22:26:42', 10: '18_05_2023_21:28:24'}\n"
     ]
    }
   ],
   "source": [
    "from util import get_metrics_by_num_participants\n",
    "num_participants_iid, best_val_losses_iid, communication_costs_iid, num_steps_iid, num_local_epochs_iid, fed_ids_iid = get_metrics_by_num_participants(\n",
    "    FEDERATED_TRAINING_DIRPATH, ROUND_CAP, IID_TRAINING_IDS, 1\n",
    ")\n",
    "print(\"num_participants\", num_participants_iid)\n",
    "print(\"best_val_losses\", best_val_losses_iid)\n",
    "print(\"communication_costs\", communication_costs_iid)\n",
    "print(\"num_steps\", num_steps_iid)\n",
    "print(\"num_local_epochs\", num_local_epochs_iid)\n",
    "print(\"fed_ids\", fed_ids_iid)"
   ]
  },
  {
   "cell_type": "code",
   "execution_count": 5,
   "id": "f319d081-8e43-4a52-8357-3e75661cbc59",
   "metadata": {},
   "outputs": [
    {
     "name": "stdout",
     "output_type": "stream",
     "text": [
      "num_participants [3, 5, 10]\n",
      "best_val_losses {3: 0.16150237110031135, 5: 0.1545338788623322, 10: 0.16404269753940523}\n",
      "communication_costs {3: 41.119294971227646, 5: 49.841569662094116, 10: 29.0742489695549}\n",
      "num_steps {3: 78366, 5: 131112, 10: 152964}\n",
      "num_local_epochs {3: 3, 5: 3, 10: 3}\n",
      "fed_ids {3: '08_06_2023_19:35:39', 5: '22_05_2023_19:44:26', 10: '15_05_2023_11:07:10'}\n"
     ]
    }
   ],
   "source": [
    "from util import get_metrics_by_num_participants\n",
    "num_participants_niid, best_val_losses_niid, communication_costs_niid, num_steps_niid, num_local_epochs_niid, fed_ids_niid = get_metrics_by_num_participants(\n",
    "    FEDERATED_TRAINING_DIRPATH, ROUND_CAP, NIID_TRAINING_IDS, 1\n",
    ")\n",
    "print(\"num_participants\", num_participants_niid)\n",
    "print(\"best_val_losses\", best_val_losses_niid)\n",
    "print(\"communication_costs\", communication_costs_niid)\n",
    "print(\"num_steps\", num_steps_niid)\n",
    "print(\"num_local_epochs\", num_local_epochs_niid)\n",
    "print(\"fed_ids\", fed_ids_niid)"
   ]
  },
  {
   "cell_type": "code",
   "execution_count": 21,
   "id": "f2c3bc88-1628-44c3-8de4-fb15f752655a",
   "metadata": {},
   "outputs": [
    {
     "data": {
      "application/vnd.plotly.v1+json": {
       "config": {
        "plotlyServerURL": "https://plot.ly"
       },
       "data": [
        {
         "line": {
          "color": "blue",
          "width": 2
         },
         "mode": "lines",
         "name": "IID",
         "type": "scatter3d",
         "x": [
          3,
          5,
          10
         ],
         "y": [
          0.17,
          0.16,
          0.16
         ],
         "z": [
          2,
          3,
          3
         ]
        },
        {
         "line": {
          "color": "red",
          "width": 2
         },
         "mode": "lines",
         "name": "NIID",
         "type": "scatter3d",
         "x": [
          3,
          5,
          10
         ],
         "y": [
          0.16,
          0.15,
          0.16
         ],
         "z": [
          3,
          3,
          3
         ]
        }
       ],
       "layout": {
        "height": 600,
        "margin": {
         "b": 40,
         "l": 40,
         "r": 40,
         "t": 80
        },
        "scene": {
         "aspectmode": "auto",
         "aspectratio": {
          "x": 1,
          "y": 1,
          "z": 1
         },
         "camera": {
          "center": {
           "x": 0,
           "y": 0,
           "z": 0
          },
          "eye": {
           "x": -1.2412808645216797,
           "y": -1.2412808645216793,
           "z": 0.8275205763477862
          },
          "projection": {
           "type": "perspective"
          },
          "up": {
           "x": 0,
           "y": 0,
           "z": 1
          }
         },
         "xaxis": {
          "showticklabels": true,
          "ticktext": [
           "3",
           "5",
           "10"
          ],
          "tickvals": [
           3,
           5,
           10
          ],
          "title": {
           "text": "Number of Participants"
          },
          "type": "linear"
         },
         "yaxis": {
          "showticklabels": true,
          "ticktext": [
           "0.17",
           "0.16",
           "0.16",
           "0.16",
           "0.15",
           "0.16"
          ],
          "tickvals": [
           0.17,
           0.16,
           0.16,
           0.16,
           0.15,
           0.16
          ],
          "title": {
           "text": "Validation Loss (AbsRel)"
          },
          "type": "linear"
         },
         "zaxis": {
          "showticklabels": true,
          "ticktext": [
           "2",
           "3",
           "3",
           "3",
           "3",
           "3"
          ],
          "tickvals": [
           2,
           3,
           3,
           3,
           3,
           3
          ],
          "title": {
           "text": "Number of Local Epochs"
          },
          "type": "linear"
         }
        },
        "showlegend": true,
        "template": {
         "data": {
          "bar": [
           {
            "error_x": {
             "color": "#2a3f5f"
            },
            "error_y": {
             "color": "#2a3f5f"
            },
            "marker": {
             "line": {
              "color": "#E5ECF6",
              "width": 0.5
             },
             "pattern": {
              "fillmode": "overlay",
              "size": 10,
              "solidity": 0.2
             }
            },
            "type": "bar"
           }
          ],
          "barpolar": [
           {
            "marker": {
             "line": {
              "color": "#E5ECF6",
              "width": 0.5
             },
             "pattern": {
              "fillmode": "overlay",
              "size": 10,
              "solidity": 0.2
             }
            },
            "type": "barpolar"
           }
          ],
          "carpet": [
           {
            "aaxis": {
             "endlinecolor": "#2a3f5f",
             "gridcolor": "white",
             "linecolor": "white",
             "minorgridcolor": "white",
             "startlinecolor": "#2a3f5f"
            },
            "baxis": {
             "endlinecolor": "#2a3f5f",
             "gridcolor": "white",
             "linecolor": "white",
             "minorgridcolor": "white",
             "startlinecolor": "#2a3f5f"
            },
            "type": "carpet"
           }
          ],
          "choropleth": [
           {
            "colorbar": {
             "outlinewidth": 0,
             "ticks": ""
            },
            "type": "choropleth"
           }
          ],
          "contour": [
           {
            "colorbar": {
             "outlinewidth": 0,
             "ticks": ""
            },
            "colorscale": [
             [
              0,
              "#0d0887"
             ],
             [
              0.1111111111111111,
              "#46039f"
             ],
             [
              0.2222222222222222,
              "#7201a8"
             ],
             [
              0.3333333333333333,
              "#9c179e"
             ],
             [
              0.4444444444444444,
              "#bd3786"
             ],
             [
              0.5555555555555556,
              "#d8576b"
             ],
             [
              0.6666666666666666,
              "#ed7953"
             ],
             [
              0.7777777777777778,
              "#fb9f3a"
             ],
             [
              0.8888888888888888,
              "#fdca26"
             ],
             [
              1,
              "#f0f921"
             ]
            ],
            "type": "contour"
           }
          ],
          "contourcarpet": [
           {
            "colorbar": {
             "outlinewidth": 0,
             "ticks": ""
            },
            "type": "contourcarpet"
           }
          ],
          "heatmap": [
           {
            "colorbar": {
             "outlinewidth": 0,
             "ticks": ""
            },
            "colorscale": [
             [
              0,
              "#0d0887"
             ],
             [
              0.1111111111111111,
              "#46039f"
             ],
             [
              0.2222222222222222,
              "#7201a8"
             ],
             [
              0.3333333333333333,
              "#9c179e"
             ],
             [
              0.4444444444444444,
              "#bd3786"
             ],
             [
              0.5555555555555556,
              "#d8576b"
             ],
             [
              0.6666666666666666,
              "#ed7953"
             ],
             [
              0.7777777777777778,
              "#fb9f3a"
             ],
             [
              0.8888888888888888,
              "#fdca26"
             ],
             [
              1,
              "#f0f921"
             ]
            ],
            "type": "heatmap"
           }
          ],
          "heatmapgl": [
           {
            "colorbar": {
             "outlinewidth": 0,
             "ticks": ""
            },
            "colorscale": [
             [
              0,
              "#0d0887"
             ],
             [
              0.1111111111111111,
              "#46039f"
             ],
             [
              0.2222222222222222,
              "#7201a8"
             ],
             [
              0.3333333333333333,
              "#9c179e"
             ],
             [
              0.4444444444444444,
              "#bd3786"
             ],
             [
              0.5555555555555556,
              "#d8576b"
             ],
             [
              0.6666666666666666,
              "#ed7953"
             ],
             [
              0.7777777777777778,
              "#fb9f3a"
             ],
             [
              0.8888888888888888,
              "#fdca26"
             ],
             [
              1,
              "#f0f921"
             ]
            ],
            "type": "heatmapgl"
           }
          ],
          "histogram": [
           {
            "marker": {
             "pattern": {
              "fillmode": "overlay",
              "size": 10,
              "solidity": 0.2
             }
            },
            "type": "histogram"
           }
          ],
          "histogram2d": [
           {
            "colorbar": {
             "outlinewidth": 0,
             "ticks": ""
            },
            "colorscale": [
             [
              0,
              "#0d0887"
             ],
             [
              0.1111111111111111,
              "#46039f"
             ],
             [
              0.2222222222222222,
              "#7201a8"
             ],
             [
              0.3333333333333333,
              "#9c179e"
             ],
             [
              0.4444444444444444,
              "#bd3786"
             ],
             [
              0.5555555555555556,
              "#d8576b"
             ],
             [
              0.6666666666666666,
              "#ed7953"
             ],
             [
              0.7777777777777778,
              "#fb9f3a"
             ],
             [
              0.8888888888888888,
              "#fdca26"
             ],
             [
              1,
              "#f0f921"
             ]
            ],
            "type": "histogram2d"
           }
          ],
          "histogram2dcontour": [
           {
            "colorbar": {
             "outlinewidth": 0,
             "ticks": ""
            },
            "colorscale": [
             [
              0,
              "#0d0887"
             ],
             [
              0.1111111111111111,
              "#46039f"
             ],
             [
              0.2222222222222222,
              "#7201a8"
             ],
             [
              0.3333333333333333,
              "#9c179e"
             ],
             [
              0.4444444444444444,
              "#bd3786"
             ],
             [
              0.5555555555555556,
              "#d8576b"
             ],
             [
              0.6666666666666666,
              "#ed7953"
             ],
             [
              0.7777777777777778,
              "#fb9f3a"
             ],
             [
              0.8888888888888888,
              "#fdca26"
             ],
             [
              1,
              "#f0f921"
             ]
            ],
            "type": "histogram2dcontour"
           }
          ],
          "mesh3d": [
           {
            "colorbar": {
             "outlinewidth": 0,
             "ticks": ""
            },
            "type": "mesh3d"
           }
          ],
          "parcoords": [
           {
            "line": {
             "colorbar": {
              "outlinewidth": 0,
              "ticks": ""
             }
            },
            "type": "parcoords"
           }
          ],
          "pie": [
           {
            "automargin": true,
            "type": "pie"
           }
          ],
          "scatter": [
           {
            "fillpattern": {
             "fillmode": "overlay",
             "size": 10,
             "solidity": 0.2
            },
            "type": "scatter"
           }
          ],
          "scatter3d": [
           {
            "line": {
             "colorbar": {
              "outlinewidth": 0,
              "ticks": ""
             }
            },
            "marker": {
             "colorbar": {
              "outlinewidth": 0,
              "ticks": ""
             }
            },
            "type": "scatter3d"
           }
          ],
          "scattercarpet": [
           {
            "marker": {
             "colorbar": {
              "outlinewidth": 0,
              "ticks": ""
             }
            },
            "type": "scattercarpet"
           }
          ],
          "scattergeo": [
           {
            "marker": {
             "colorbar": {
              "outlinewidth": 0,
              "ticks": ""
             }
            },
            "type": "scattergeo"
           }
          ],
          "scattergl": [
           {
            "marker": {
             "colorbar": {
              "outlinewidth": 0,
              "ticks": ""
             }
            },
            "type": "scattergl"
           }
          ],
          "scattermapbox": [
           {
            "marker": {
             "colorbar": {
              "outlinewidth": 0,
              "ticks": ""
             }
            },
            "type": "scattermapbox"
           }
          ],
          "scatterpolar": [
           {
            "marker": {
             "colorbar": {
              "outlinewidth": 0,
              "ticks": ""
             }
            },
            "type": "scatterpolar"
           }
          ],
          "scatterpolargl": [
           {
            "marker": {
             "colorbar": {
              "outlinewidth": 0,
              "ticks": ""
             }
            },
            "type": "scatterpolargl"
           }
          ],
          "scatterternary": [
           {
            "marker": {
             "colorbar": {
              "outlinewidth": 0,
              "ticks": ""
             }
            },
            "type": "scatterternary"
           }
          ],
          "surface": [
           {
            "colorbar": {
             "outlinewidth": 0,
             "ticks": ""
            },
            "colorscale": [
             [
              0,
              "#0d0887"
             ],
             [
              0.1111111111111111,
              "#46039f"
             ],
             [
              0.2222222222222222,
              "#7201a8"
             ],
             [
              0.3333333333333333,
              "#9c179e"
             ],
             [
              0.4444444444444444,
              "#bd3786"
             ],
             [
              0.5555555555555556,
              "#d8576b"
             ],
             [
              0.6666666666666666,
              "#ed7953"
             ],
             [
              0.7777777777777778,
              "#fb9f3a"
             ],
             [
              0.8888888888888888,
              "#fdca26"
             ],
             [
              1,
              "#f0f921"
             ]
            ],
            "type": "surface"
           }
          ],
          "table": [
           {
            "cells": {
             "fill": {
              "color": "#EBF0F8"
             },
             "line": {
              "color": "white"
             }
            },
            "header": {
             "fill": {
              "color": "#C8D4E3"
             },
             "line": {
              "color": "white"
             }
            },
            "type": "table"
           }
          ]
         },
         "layout": {
          "annotationdefaults": {
           "arrowcolor": "#2a3f5f",
           "arrowhead": 0,
           "arrowwidth": 1
          },
          "autotypenumbers": "strict",
          "coloraxis": {
           "colorbar": {
            "outlinewidth": 0,
            "ticks": ""
           }
          },
          "colorscale": {
           "diverging": [
            [
             0,
             "#8e0152"
            ],
            [
             0.1,
             "#c51b7d"
            ],
            [
             0.2,
             "#de77ae"
            ],
            [
             0.3,
             "#f1b6da"
            ],
            [
             0.4,
             "#fde0ef"
            ],
            [
             0.5,
             "#f7f7f7"
            ],
            [
             0.6,
             "#e6f5d0"
            ],
            [
             0.7,
             "#b8e186"
            ],
            [
             0.8,
             "#7fbc41"
            ],
            [
             0.9,
             "#4d9221"
            ],
            [
             1,
             "#276419"
            ]
           ],
           "sequential": [
            [
             0,
             "#0d0887"
            ],
            [
             0.1111111111111111,
             "#46039f"
            ],
            [
             0.2222222222222222,
             "#7201a8"
            ],
            [
             0.3333333333333333,
             "#9c179e"
            ],
            [
             0.4444444444444444,
             "#bd3786"
            ],
            [
             0.5555555555555556,
             "#d8576b"
            ],
            [
             0.6666666666666666,
             "#ed7953"
            ],
            [
             0.7777777777777778,
             "#fb9f3a"
            ],
            [
             0.8888888888888888,
             "#fdca26"
            ],
            [
             1,
             "#f0f921"
            ]
           ],
           "sequentialminus": [
            [
             0,
             "#0d0887"
            ],
            [
             0.1111111111111111,
             "#46039f"
            ],
            [
             0.2222222222222222,
             "#7201a8"
            ],
            [
             0.3333333333333333,
             "#9c179e"
            ],
            [
             0.4444444444444444,
             "#bd3786"
            ],
            [
             0.5555555555555556,
             "#d8576b"
            ],
            [
             0.6666666666666666,
             "#ed7953"
            ],
            [
             0.7777777777777778,
             "#fb9f3a"
            ],
            [
             0.8888888888888888,
             "#fdca26"
            ],
            [
             1,
             "#f0f921"
            ]
           ]
          },
          "colorway": [
           "#636efa",
           "#EF553B",
           "#00cc96",
           "#ab63fa",
           "#FFA15A",
           "#19d3f3",
           "#FF6692",
           "#B6E880",
           "#FF97FF",
           "#FECB52"
          ],
          "font": {
           "color": "#2a3f5f"
          },
          "geo": {
           "bgcolor": "white",
           "lakecolor": "white",
           "landcolor": "#E5ECF6",
           "showlakes": true,
           "showland": true,
           "subunitcolor": "white"
          },
          "hoverlabel": {
           "align": "left"
          },
          "hovermode": "closest",
          "mapbox": {
           "style": "light"
          },
          "paper_bgcolor": "white",
          "plot_bgcolor": "#E5ECF6",
          "polar": {
           "angularaxis": {
            "gridcolor": "white",
            "linecolor": "white",
            "ticks": ""
           },
           "bgcolor": "#E5ECF6",
           "radialaxis": {
            "gridcolor": "white",
            "linecolor": "white",
            "ticks": ""
           }
          },
          "scene": {
           "xaxis": {
            "backgroundcolor": "#E5ECF6",
            "gridcolor": "white",
            "gridwidth": 2,
            "linecolor": "white",
            "showbackground": true,
            "ticks": "",
            "zerolinecolor": "white"
           },
           "yaxis": {
            "backgroundcolor": "#E5ECF6",
            "gridcolor": "white",
            "gridwidth": 2,
            "linecolor": "white",
            "showbackground": true,
            "ticks": "",
            "zerolinecolor": "white"
           },
           "zaxis": {
            "backgroundcolor": "#E5ECF6",
            "gridcolor": "white",
            "gridwidth": 2,
            "linecolor": "white",
            "showbackground": true,
            "ticks": "",
            "zerolinecolor": "white"
           }
          },
          "shapedefaults": {
           "line": {
            "color": "#2a3f5f"
           }
          },
          "ternary": {
           "aaxis": {
            "gridcolor": "white",
            "linecolor": "white",
            "ticks": ""
           },
           "baxis": {
            "gridcolor": "white",
            "linecolor": "white",
            "ticks": ""
           },
           "bgcolor": "#E5ECF6",
           "caxis": {
            "gridcolor": "white",
            "linecolor": "white",
            "ticks": ""
           }
          },
          "title": {
           "x": 0.05
          },
          "xaxis": {
           "automargin": true,
           "gridcolor": "white",
           "linecolor": "white",
           "ticks": "",
           "title": {
            "standoff": 15
           },
           "zerolinecolor": "white",
           "zerolinewidth": 2
          },
          "yaxis": {
           "automargin": true,
           "gridcolor": "white",
           "linecolor": "white",
           "ticks": "",
           "title": {
            "standoff": 15
           },
           "zerolinecolor": "white",
           "zerolinewidth": 2
          }
         }
        },
        "width": 800
       }
      },
      "text/html": [
       "<div>                            <div id=\"777eb87c-754f-4518-8d6b-aed57f9315be\" class=\"plotly-graph-div\" style=\"height:600px; width:800px;\"></div>            <script type=\"text/javascript\">                require([\"plotly\"], function(Plotly) {                    window.PLOTLYENV=window.PLOTLYENV || {};                                    if (document.getElementById(\"777eb87c-754f-4518-8d6b-aed57f9315be\")) {                    Plotly.newPlot(                        \"777eb87c-754f-4518-8d6b-aed57f9315be\",                        [{\"line\":{\"color\":\"blue\",\"width\":2},\"mode\":\"lines\",\"name\":\"IID\",\"x\":[3,5,10],\"y\":[0.17,0.16,0.16],\"z\":[2,3,3],\"type\":\"scatter3d\"},{\"line\":{\"color\":\"red\",\"width\":2},\"mode\":\"lines\",\"name\":\"NIID\",\"x\":[3,5,10],\"y\":[0.16,0.15,0.16],\"z\":[3,3,3],\"type\":\"scatter3d\"}],                        {\"template\":{\"data\":{\"histogram2dcontour\":[{\"type\":\"histogram2dcontour\",\"colorbar\":{\"outlinewidth\":0,\"ticks\":\"\"},\"colorscale\":[[0.0,\"#0d0887\"],[0.1111111111111111,\"#46039f\"],[0.2222222222222222,\"#7201a8\"],[0.3333333333333333,\"#9c179e\"],[0.4444444444444444,\"#bd3786\"],[0.5555555555555556,\"#d8576b\"],[0.6666666666666666,\"#ed7953\"],[0.7777777777777778,\"#fb9f3a\"],[0.8888888888888888,\"#fdca26\"],[1.0,\"#f0f921\"]]}],\"choropleth\":[{\"type\":\"choropleth\",\"colorbar\":{\"outlinewidth\":0,\"ticks\":\"\"}}],\"histogram2d\":[{\"type\":\"histogram2d\",\"colorbar\":{\"outlinewidth\":0,\"ticks\":\"\"},\"colorscale\":[[0.0,\"#0d0887\"],[0.1111111111111111,\"#46039f\"],[0.2222222222222222,\"#7201a8\"],[0.3333333333333333,\"#9c179e\"],[0.4444444444444444,\"#bd3786\"],[0.5555555555555556,\"#d8576b\"],[0.6666666666666666,\"#ed7953\"],[0.7777777777777778,\"#fb9f3a\"],[0.8888888888888888,\"#fdca26\"],[1.0,\"#f0f921\"]]}],\"heatmap\":[{\"type\":\"heatmap\",\"colorbar\":{\"outlinewidth\":0,\"ticks\":\"\"},\"colorscale\":[[0.0,\"#0d0887\"],[0.1111111111111111,\"#46039f\"],[0.2222222222222222,\"#7201a8\"],[0.3333333333333333,\"#9c179e\"],[0.4444444444444444,\"#bd3786\"],[0.5555555555555556,\"#d8576b\"],[0.6666666666666666,\"#ed7953\"],[0.7777777777777778,\"#fb9f3a\"],[0.8888888888888888,\"#fdca26\"],[1.0,\"#f0f921\"]]}],\"heatmapgl\":[{\"type\":\"heatmapgl\",\"colorbar\":{\"outlinewidth\":0,\"ticks\":\"\"},\"colorscale\":[[0.0,\"#0d0887\"],[0.1111111111111111,\"#46039f\"],[0.2222222222222222,\"#7201a8\"],[0.3333333333333333,\"#9c179e\"],[0.4444444444444444,\"#bd3786\"],[0.5555555555555556,\"#d8576b\"],[0.6666666666666666,\"#ed7953\"],[0.7777777777777778,\"#fb9f3a\"],[0.8888888888888888,\"#fdca26\"],[1.0,\"#f0f921\"]]}],\"contourcarpet\":[{\"type\":\"contourcarpet\",\"colorbar\":{\"outlinewidth\":0,\"ticks\":\"\"}}],\"contour\":[{\"type\":\"contour\",\"colorbar\":{\"outlinewidth\":0,\"ticks\":\"\"},\"colorscale\":[[0.0,\"#0d0887\"],[0.1111111111111111,\"#46039f\"],[0.2222222222222222,\"#7201a8\"],[0.3333333333333333,\"#9c179e\"],[0.4444444444444444,\"#bd3786\"],[0.5555555555555556,\"#d8576b\"],[0.6666666666666666,\"#ed7953\"],[0.7777777777777778,\"#fb9f3a\"],[0.8888888888888888,\"#fdca26\"],[1.0,\"#f0f921\"]]}],\"surface\":[{\"type\":\"surface\",\"colorbar\":{\"outlinewidth\":0,\"ticks\":\"\"},\"colorscale\":[[0.0,\"#0d0887\"],[0.1111111111111111,\"#46039f\"],[0.2222222222222222,\"#7201a8\"],[0.3333333333333333,\"#9c179e\"],[0.4444444444444444,\"#bd3786\"],[0.5555555555555556,\"#d8576b\"],[0.6666666666666666,\"#ed7953\"],[0.7777777777777778,\"#fb9f3a\"],[0.8888888888888888,\"#fdca26\"],[1.0,\"#f0f921\"]]}],\"mesh3d\":[{\"type\":\"mesh3d\",\"colorbar\":{\"outlinewidth\":0,\"ticks\":\"\"}}],\"scatter\":[{\"fillpattern\":{\"fillmode\":\"overlay\",\"size\":10,\"solidity\":0.2},\"type\":\"scatter\"}],\"parcoords\":[{\"type\":\"parcoords\",\"line\":{\"colorbar\":{\"outlinewidth\":0,\"ticks\":\"\"}}}],\"scatterpolargl\":[{\"type\":\"scatterpolargl\",\"marker\":{\"colorbar\":{\"outlinewidth\":0,\"ticks\":\"\"}}}],\"bar\":[{\"error_x\":{\"color\":\"#2a3f5f\"},\"error_y\":{\"color\":\"#2a3f5f\"},\"marker\":{\"line\":{\"color\":\"#E5ECF6\",\"width\":0.5},\"pattern\":{\"fillmode\":\"overlay\",\"size\":10,\"solidity\":0.2}},\"type\":\"bar\"}],\"scattergeo\":[{\"type\":\"scattergeo\",\"marker\":{\"colorbar\":{\"outlinewidth\":0,\"ticks\":\"\"}}}],\"scatterpolar\":[{\"type\":\"scatterpolar\",\"marker\":{\"colorbar\":{\"outlinewidth\":0,\"ticks\":\"\"}}}],\"histogram\":[{\"marker\":{\"pattern\":{\"fillmode\":\"overlay\",\"size\":10,\"solidity\":0.2}},\"type\":\"histogram\"}],\"scattergl\":[{\"type\":\"scattergl\",\"marker\":{\"colorbar\":{\"outlinewidth\":0,\"ticks\":\"\"}}}],\"scatter3d\":[{\"type\":\"scatter3d\",\"line\":{\"colorbar\":{\"outlinewidth\":0,\"ticks\":\"\"}},\"marker\":{\"colorbar\":{\"outlinewidth\":0,\"ticks\":\"\"}}}],\"scattermapbox\":[{\"type\":\"scattermapbox\",\"marker\":{\"colorbar\":{\"outlinewidth\":0,\"ticks\":\"\"}}}],\"scatterternary\":[{\"type\":\"scatterternary\",\"marker\":{\"colorbar\":{\"outlinewidth\":0,\"ticks\":\"\"}}}],\"scattercarpet\":[{\"type\":\"scattercarpet\",\"marker\":{\"colorbar\":{\"outlinewidth\":0,\"ticks\":\"\"}}}],\"carpet\":[{\"aaxis\":{\"endlinecolor\":\"#2a3f5f\",\"gridcolor\":\"white\",\"linecolor\":\"white\",\"minorgridcolor\":\"white\",\"startlinecolor\":\"#2a3f5f\"},\"baxis\":{\"endlinecolor\":\"#2a3f5f\",\"gridcolor\":\"white\",\"linecolor\":\"white\",\"minorgridcolor\":\"white\",\"startlinecolor\":\"#2a3f5f\"},\"type\":\"carpet\"}],\"table\":[{\"cells\":{\"fill\":{\"color\":\"#EBF0F8\"},\"line\":{\"color\":\"white\"}},\"header\":{\"fill\":{\"color\":\"#C8D4E3\"},\"line\":{\"color\":\"white\"}},\"type\":\"table\"}],\"barpolar\":[{\"marker\":{\"line\":{\"color\":\"#E5ECF6\",\"width\":0.5},\"pattern\":{\"fillmode\":\"overlay\",\"size\":10,\"solidity\":0.2}},\"type\":\"barpolar\"}],\"pie\":[{\"automargin\":true,\"type\":\"pie\"}]},\"layout\":{\"autotypenumbers\":\"strict\",\"colorway\":[\"#636efa\",\"#EF553B\",\"#00cc96\",\"#ab63fa\",\"#FFA15A\",\"#19d3f3\",\"#FF6692\",\"#B6E880\",\"#FF97FF\",\"#FECB52\"],\"font\":{\"color\":\"#2a3f5f\"},\"hovermode\":\"closest\",\"hoverlabel\":{\"align\":\"left\"},\"paper_bgcolor\":\"white\",\"plot_bgcolor\":\"#E5ECF6\",\"polar\":{\"bgcolor\":\"#E5ECF6\",\"angularaxis\":{\"gridcolor\":\"white\",\"linecolor\":\"white\",\"ticks\":\"\"},\"radialaxis\":{\"gridcolor\":\"white\",\"linecolor\":\"white\",\"ticks\":\"\"}},\"ternary\":{\"bgcolor\":\"#E5ECF6\",\"aaxis\":{\"gridcolor\":\"white\",\"linecolor\":\"white\",\"ticks\":\"\"},\"baxis\":{\"gridcolor\":\"white\",\"linecolor\":\"white\",\"ticks\":\"\"},\"caxis\":{\"gridcolor\":\"white\",\"linecolor\":\"white\",\"ticks\":\"\"}},\"coloraxis\":{\"colorbar\":{\"outlinewidth\":0,\"ticks\":\"\"}},\"colorscale\":{\"sequential\":[[0.0,\"#0d0887\"],[0.1111111111111111,\"#46039f\"],[0.2222222222222222,\"#7201a8\"],[0.3333333333333333,\"#9c179e\"],[0.4444444444444444,\"#bd3786\"],[0.5555555555555556,\"#d8576b\"],[0.6666666666666666,\"#ed7953\"],[0.7777777777777778,\"#fb9f3a\"],[0.8888888888888888,\"#fdca26\"],[1.0,\"#f0f921\"]],\"sequentialminus\":[[0.0,\"#0d0887\"],[0.1111111111111111,\"#46039f\"],[0.2222222222222222,\"#7201a8\"],[0.3333333333333333,\"#9c179e\"],[0.4444444444444444,\"#bd3786\"],[0.5555555555555556,\"#d8576b\"],[0.6666666666666666,\"#ed7953\"],[0.7777777777777778,\"#fb9f3a\"],[0.8888888888888888,\"#fdca26\"],[1.0,\"#f0f921\"]],\"diverging\":[[0,\"#8e0152\"],[0.1,\"#c51b7d\"],[0.2,\"#de77ae\"],[0.3,\"#f1b6da\"],[0.4,\"#fde0ef\"],[0.5,\"#f7f7f7\"],[0.6,\"#e6f5d0\"],[0.7,\"#b8e186\"],[0.8,\"#7fbc41\"],[0.9,\"#4d9221\"],[1,\"#276419\"]]},\"xaxis\":{\"gridcolor\":\"white\",\"linecolor\":\"white\",\"ticks\":\"\",\"title\":{\"standoff\":15},\"zerolinecolor\":\"white\",\"automargin\":true,\"zerolinewidth\":2},\"yaxis\":{\"gridcolor\":\"white\",\"linecolor\":\"white\",\"ticks\":\"\",\"title\":{\"standoff\":15},\"zerolinecolor\":\"white\",\"automargin\":true,\"zerolinewidth\":2},\"scene\":{\"xaxis\":{\"backgroundcolor\":\"#E5ECF6\",\"gridcolor\":\"white\",\"linecolor\":\"white\",\"showbackground\":true,\"ticks\":\"\",\"zerolinecolor\":\"white\",\"gridwidth\":2},\"yaxis\":{\"backgroundcolor\":\"#E5ECF6\",\"gridcolor\":\"white\",\"linecolor\":\"white\",\"showbackground\":true,\"ticks\":\"\",\"zerolinecolor\":\"white\",\"gridwidth\":2},\"zaxis\":{\"backgroundcolor\":\"#E5ECF6\",\"gridcolor\":\"white\",\"linecolor\":\"white\",\"showbackground\":true,\"ticks\":\"\",\"zerolinecolor\":\"white\",\"gridwidth\":2}},\"shapedefaults\":{\"line\":{\"color\":\"#2a3f5f\"}},\"annotationdefaults\":{\"arrowcolor\":\"#2a3f5f\",\"arrowhead\":0,\"arrowwidth\":1},\"geo\":{\"bgcolor\":\"white\",\"landcolor\":\"#E5ECF6\",\"subunitcolor\":\"white\",\"showland\":true,\"showlakes\":true,\"lakecolor\":\"white\"},\"title\":{\"x\":0.05},\"mapbox\":{\"style\":\"light\"}}},\"scene\":{\"xaxis\":{\"title\":{\"text\":\"Number of Participants\"},\"showticklabels\":true,\"tickvals\":[3,5,10],\"ticktext\":[\"3\",\"5\",\"10\"]},\"yaxis\":{\"title\":{\"text\":\"Validation Loss (AbsRel)\"},\"showticklabels\":true,\"tickvals\":[0.17,0.16,0.16,0.16,0.15,0.16],\"ticktext\":[\"0.17\",\"0.16\",\"0.16\",\"0.16\",\"0.15\",\"0.16\"]},\"zaxis\":{\"title\":{\"text\":\"Number of Local Epochs\"},\"showticklabels\":true,\"tickvals\":[2,3,3,3,3,3],\"ticktext\":[\"2\",\"3\",\"3\",\"3\",\"3\",\"3\"]},\"camera\":{\"eye\":{\"x\":-1.5,\"y\":-1.5,\"z\":1}}},\"margin\":{\"l\":40,\"r\":40,\"b\":40,\"t\":80},\"showlegend\":true,\"width\":800,\"height\":600},                        {\"responsive\": true}                    ).then(function(){\n",
       "                            \n",
       "var gd = document.getElementById('777eb87c-754f-4518-8d6b-aed57f9315be');\n",
       "var x = new MutationObserver(function (mutations, observer) {{\n",
       "        var display = window.getComputedStyle(gd).display;\n",
       "        if (!display || display === 'none') {{\n",
       "            console.log([gd, 'removed!']);\n",
       "            Plotly.purge(gd);\n",
       "            observer.disconnect();\n",
       "        }}\n",
       "}});\n",
       "\n",
       "// Listen for the removal of the full notebook cells\n",
       "var notebookContainer = gd.closest('#notebook-container');\n",
       "if (notebookContainer) {{\n",
       "    x.observe(notebookContainer, {childList: true});\n",
       "}}\n",
       "\n",
       "// Listen for the clearing of the current output cell\n",
       "var outputEl = gd.closest('.output');\n",
       "if (outputEl) {{\n",
       "    x.observe(outputEl, {childList: true});\n",
       "}}\n",
       "\n",
       "                        })                };                });            </script>        </div>"
      ]
     },
     "metadata": {},
     "output_type": "display_data"
    }
   ],
   "source": [
    "import plotly.graph_objects as go\n",
    "\n",
    "# Sample data for multiple lines\n",
    "x = num_participants_iid\n",
    "y1 = [round(val, 2) for val in best_val_losses_iid.values()]\n",
    "z1 = list(num_local_epochs_iid.values())\n",
    "y2 = [round(val, 2) for val in best_val_losses_niid.values()]\n",
    "z2 = list(num_local_epochs_niid.values())\n",
    "\n",
    "# Create a 3D line plot with multiple lines\n",
    "fig = go.Figure()\n",
    "\n",
    "# Add the first line\n",
    "fig.add_trace(go.Scatter3d(x=x, y=y1, z=z1, mode='lines', name='IID', line=dict(color='blue', width=2)))\n",
    "\n",
    "# Add the second line\n",
    "fig.add_trace(go.Scatter3d(x=x, y=y2, z=z2, mode='lines', name='NIID', line=dict(color='red', width=2)))\n",
    "\n",
    "# Set plot layout\n",
    "fig.update_layout(\n",
    "    scene=dict(\n",
    "        xaxis=dict(\n",
    "            title='Number of Participants',\n",
    "            showticklabels=True,\n",
    "            tickvals=x,\n",
    "            ticktext=[str(val) for val in x]\n",
    "        ),\n",
    "        yaxis=dict(\n",
    "            title='Validation Loss (AbsRel)',\n",
    "            showticklabels=True,\n",
    "            tickvals=y1 + y2,\n",
    "            ticktext=[str(val) for val in y1 + y2]\n",
    "        ),\n",
    "        zaxis=dict(\n",
    "            title='Number of Local Epochs',\n",
    "            showticklabels=True,\n",
    "            tickvals=z1 + z2,\n",
    "            ticktext=[str(val) for val in z1 + z2]\n",
    "        ),\n",
    "        camera=dict(\n",
    "            eye=dict(x=-1.5, y=-1.5, z=1)  # Adjust the camera position for a better viewing angle\n",
    "        )\n",
    "    ),\n",
    "    showlegend=True,\n",
    "    width=800,  # Adjust the width of the plot\n",
    "    height=600,  # Adjust the height of the plot\n",
    "    margin=dict(l=40, r=40, b=40, t=80)  # Adjust the margins to provide enough space for labels\n",
    ")\n",
    "\n",
    "# Display the plot\n",
    "fig.show()\n"
   ]
  },
  {
   "cell_type": "code",
   "execution_count": null,
   "id": "96b950d6-1cb3-433b-9c90-b0ac397842db",
   "metadata": {},
   "outputs": [],
   "source": []
  }
 ],
 "metadata": {
  "kernelspec": {
   "display_name": "federated_sc_depth_env",
   "language": "python",
   "name": "federated_sc_depth_env"
  },
  "language_info": {
   "codemirror_mode": {
    "name": "ipython",
    "version": 3
   },
   "file_extension": ".py",
   "mimetype": "text/x-python",
   "name": "python",
   "nbconvert_exporter": "python",
   "pygments_lexer": "ipython3",
   "version": "3.8.15"
  }
 },
 "nbformat": 4,
 "nbformat_minor": 5
}
